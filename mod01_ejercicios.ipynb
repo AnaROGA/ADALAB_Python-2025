{
 "cells": [
  {
   "cell_type": "markdown",
   "id": "dda2a6bb",
   "metadata": {},
   "source": [
    "### VARIABLES   \n",
    "(...)"
   ]
  },
  {
   "cell_type": "markdown",
   "id": "ad15bb77",
   "metadata": {},
   "source": [
    "### LISTAS Y TUPLAS"
   ]
  },
  {
   "cell_type": "code",
   "execution_count": 2,
   "id": "d77a1cb4",
   "metadata": {},
   "outputs": [],
   "source": [
    "# 1 Haz una lista llamada colores donde almacenemos los primeros 6 colores que te vengan a la mente.\n",
    "colores = ['azul', 'verde', 'amarillo', 'negro', 'violeta', 'blanco']\n",
    "# 2. Haz una lista llamada buses de las líneas de autobuses que pasan por tu casa.\n",
    "buses = ['H10', 'V27', '47']\n",
    "# 3. Apunta la previsión de temperaturas máximas para todos los días de esta semana en temperaturas.\n",
    "temperaturas = [28, 28, 30, 29, 29, 30, 31]"
   ]
  },
  {
   "cell_type": "code",
   "execution_count": 6,
   "id": "ee7f95fc",
   "metadata": {},
   "outputs": [
    {
     "name": "stdout",
     "output_type": "stream",
     "text": [
      "['A', 'n', 'a', ' ', 'M', 'a', 'r', 'í', 'a']\n",
      "['R', 'o', 'b', 'l', 'e', 's', ' ', 'G', 'a', 'r', 'c', 'í', 'a']\n"
     ]
    }
   ],
   "source": [
    "# 4. Convierte tu(s) nombre(s) a una lista nombres de caracteres.\n",
    "nombre = 'Ana María'\n",
    "lista_nombre = list(nombre)\n",
    "print(lista_nombre)\n",
    "# 5. Convierte tu(s) apellido(s) a una lista apellidos de caracteres.\n",
    "apellidos = 'Robles García'\n",
    "lista_apellidos = list(apellidos)\n",
    "print(lista_apellidos)"
   ]
  },
  {
   "cell_type": "code",
   "execution_count": 5,
   "id": "113395b0",
   "metadata": {},
   "outputs": [
    {
     "data": {
      "text/plain": [
       "3"
      ]
     },
     "execution_count": 5,
     "metadata": {},
     "output_type": "execute_result"
    }
   ],
   "source": [
    "# 6. ¿Cuántos búses pasan por tu casa?\n",
    "len(buses)"
   ]
  },
  {
   "cell_type": "code",
   "execution_count": 7,
   "id": "0e5000ad",
   "metadata": {},
   "outputs": [
    {
     "data": {
      "text/plain": [
       "13"
      ]
     },
     "execution_count": 7,
     "metadata": {},
     "output_type": "execute_result"
    }
   ],
   "source": [
    "# 7. ¿Cuántos caracteres hay en tu apellido(s) (inluyendo los espacios)?\n",
    "len(lista_apellidos)"
   ]
  },
  {
   "cell_type": "code",
   "execution_count": 9,
   "id": "6af5814f",
   "metadata": {},
   "outputs": [
    {
     "name": "stdout",
     "output_type": "stream",
     "text": [
      "Temperaturas: \n",
      " Máxima: 31 \n",
      " Mínima: 28\n"
     ]
    }
   ],
   "source": [
    "# 8. ¿Cuáles son las temperaturas máximas (t_max) y mínimas (t_min) para esta semana?\n",
    "t_max = max(temperaturas)\n",
    "t_min = min(temperaturas)\n",
    "print(f'Temperaturas: \\n Máxima: {t_max} \\n Mínima: {t_min}')"
   ]
  },
  {
   "cell_type": "code",
   "execution_count": 12,
   "id": "14a3ab87",
   "metadata": {},
   "outputs": [
    {
     "name": "stdout",
     "output_type": "stream",
     "text": [
      "Hay \"e\" en mi nombre: False\n",
      "Está el color ROSA en la lista: False\n",
      "No hay \"x\" en mi nombre: True\n"
     ]
    }
   ],
   "source": [
    "# 9. Hay una 'e' en tu nombre?\n",
    "print('Hay \"e\" en mi nombre:', 'e' in lista_nombre)\n",
    "# 10. Tienes el color 'rosa' en la lista de colores?\n",
    "print('Está el color ROSA en la lista:', 'rosa' in colores)\n",
    "# 11. ¿Tiene una 'x' tu nombre? (Usa not in)\n",
    "print('No hay \"x\" en mi nombre:', 'x' not in lista_nombre)"
   ]
  },
  {
   "cell_type": "code",
   "execution_count": 13,
   "id": "957d36c4",
   "metadata": {},
   "outputs": [],
   "source": [
    "# 12. Copia el contenido de temperaturas a temperaturas2, y temperaturas3.\n",
    "temperaturas2 = temperaturas.copy()\n",
    "temperaturas3 = temperaturas.copy()"
   ]
  },
  {
   "cell_type": "code",
   "execution_count": 16,
   "id": "3c0aa07b",
   "metadata": {},
   "outputs": [
    {
     "name": "stdout",
     "output_type": "stream",
     "text": [
      "[28, 28, 30, 29, 29, 30, 31]\n",
      "[]\n"
     ]
    }
   ],
   "source": [
    "# 13. Vacía el contenido de la variable temperaturas2\n",
    "temperaturas2.clear()\n",
    "# 14. Imprime el contenido de temperaturas y temperaturas2.\n",
    "print(temperaturas)\n",
    "print(temperaturas2)"
   ]
  },
  {
   "cell_type": "code",
   "execution_count": 17,
   "id": "29a1063b",
   "metadata": {},
   "outputs": [],
   "source": [
    "# 15. Copia el contenido de nombres a nombres2.\n",
    "nombres2 = lista_nombre.copy()\n",
    "# 16. Copia el contenido de apellidos a apellidos2.\n",
    "apellidos2 = lista_apellidos.copy()"
   ]
  },
  {
   "cell_type": "code",
   "execution_count": 21,
   "id": "723e3082",
   "metadata": {},
   "outputs": [
    {
     "data": {
      "text/plain": [
       "[31, 30, 30, 29, 29, 28, 28]"
      ]
     },
     "execution_count": 21,
     "metadata": {},
     "output_type": "execute_result"
    }
   ],
   "source": [
    "# 17. Ordena la variable temperaturas3 de mayor a menor.\n",
    "temperaturas3.sort(reverse = True)\n",
    "temperaturas3"
   ]
  },
  {
   "cell_type": "code",
   "execution_count": 24,
   "id": "633a1503",
   "metadata": {},
   "outputs": [
    {
     "name": "stdout",
     "output_type": "stream",
     "text": [
      "[' ', 'A', 'M', 'a', 'a', 'a', 'n', 'r', 'í'] --> orden alfabético, SÍ distingue entre M de m\n",
      "[' ', 'G', 'R', 'a', 'a', 'b', 'c', 'e', 'l', 'o', 'r', 's', 'í']\n",
      "--> orden alfabético, SÍ distingue entre M de m\n"
     ]
    }
   ],
   "source": [
    "# 18. Ordena los caracteres de tu nombre y tu apellido en las listas nombres2 y apellidos2. \n",
    "# Imprime el resultado y investiga: ¿qué orden ha cogido? ¿Cómo trata las mayúsculas?\n",
    "nombres2.sort()\n",
    "apellidos2.sort()\n",
    "print(nombres2, '--> orden alfabético, SÍ distingue entre M de m')\n",
    "print(apellidos2)\n",
    "print('--> orden alfabético, SÍ distingue entre M de m')"
   ]
  },
  {
   "cell_type": "code",
   "execution_count": null,
   "id": "36308b5a",
   "metadata": {},
   "outputs": [
    {
     "name": "stdout",
     "output_type": "stream",
     "text": [
      "Num \"a\" : 4. \n",
      "Num \"o\" : 0. \n"
     ]
    }
   ],
   "source": [
    "# 19. ¿Cuántas 'a' tiene tu nombre? ¿Y cuántas 'o'?\n",
    "num_a_nombre = nombres2.count('a') + nombres2.count('A')\n",
    "num_o_nombre = nombres2.count('o') + nombres2.count('O')\n",
    "print(f'Num \"a\" : {num_a_nombre}. \\nNum \"o\" : {num_o_nombre}. ')"
   ]
  },
  {
   "cell_type": "code",
   "execution_count": 29,
   "id": "126958ea",
   "metadata": {},
   "outputs": [
    {
     "name": "stdout",
     "output_type": "stream",
     "text": [
      "True\n",
      "True\n"
     ]
    }
   ],
   "source": [
    "# 20. Verifica si los resultados de ejercicio 19 son iguales para la lista nombres2.\n",
    "num_a_nombre_lista = lista_nombre.count('a') + lista_nombre.count('A')\n",
    "num_o_nombre_lista = lista_nombre.count('o') + lista_nombre.count('O')\n",
    "print(num_a_nombre == num_a_nombre_lista)\n",
    "print(num_o_nombre == num_o_nombre_lista)"
   ]
  },
  {
   "cell_type": "code",
   "execution_count": 30,
   "id": "c8a1545c",
   "metadata": {},
   "outputs": [
    {
     "name": "stdout",
     "output_type": "stream",
     "text": [
      "T máxima: 1 veces. \n",
      "T mínima: 2 veces.\n"
     ]
    }
   ],
   "source": [
    "# 21. ¿Cuántas veces esta semana llega la temperatura a la t_max? ¿Y cuántas a la t_min?\n",
    "veces_tmax = temperaturas.count(t_max)\n",
    "veces_tmin = temperaturas.count(t_min)\n",
    "print(f'T máxima: {veces_tmax} veces. \\nT mínima: {veces_tmin} veces.')"
   ]
  },
  {
   "cell_type": "code",
   "execution_count": 31,
   "id": "c7c9ab3d",
   "metadata": {},
   "outputs": [],
   "source": [
    "# 22. La lista dias_en contiene 'monday', 'tuesday', 'wednesday', 'thursday', 'friday', 'saturday', y 'sunday'.\n",
    "dias_en = ['monday', 'tuesday', 'wednesday', 'thursday', 'friday', 'saturday', 'sunday']\n",
    "# 23\n",
    "temperaturas_diciembre = [10, 10, 13, 14, 12, 15, \n",
    "                        12, 11, 13, 17, 18, 15, \n",
    "                        15, 17, 17, 13, 13, 11,\n",
    "                        12, 10, 12, 14, 12, 12,\n",
    "                        11, 12, 16, 16, 14, 17, 18]\n"
   ]
  },
  {
   "cell_type": "code",
   "execution_count": null,
   "id": "f7b115d7",
   "metadata": {},
   "outputs": [
    {
     "data": {
      "text/plain": [
       "'saturday'"
      ]
     },
     "execution_count": 32,
     "metadata": {},
     "output_type": "execute_result"
    }
   ],
   "source": [
    "# 24. ¿Cuál es el penúltimo día de la semana?\n",
    "dias_en[5] # ó [-2]"
   ]
  },
  {
   "cell_type": "code",
   "execution_count": 33,
   "id": "25303c61",
   "metadata": {},
   "outputs": [
    {
     "data": {
      "text/plain": [
       "18"
      ]
     },
     "execution_count": 33,
     "metadata": {},
     "output_type": "execute_result"
    }
   ],
   "source": [
    "# 25. ¿Cuál es el último elemento de la lista de temperaturas de diciembre?\n",
    "temperaturas_diciembre[-1]"
   ]
  },
  {
   "cell_type": "code",
   "execution_count": 34,
   "id": "fc6dc257",
   "metadata": {},
   "outputs": [
    {
     "name": "stdout",
     "output_type": "stream",
     "text": [
      "True\n",
      "4\n"
     ]
    }
   ],
   "source": [
    "# 26. ¿Está 'friday' en la lista de días en inglés? Si está, ¿dónde?\n",
    "print('friday' in dias_en)\n",
    "print(dias_en.index('friday'))"
   ]
  },
  {
   "cell_type": "code",
   "execution_count": 35,
   "id": "324840d7",
   "metadata": {},
   "outputs": [
    {
     "data": {
      "text/plain": [
       "18"
      ]
     },
     "execution_count": 35,
     "metadata": {},
     "output_type": "execute_result"
    }
   ],
   "source": [
    "# 27. ¿Cuál era la temperatura máxima en diciembre?\n",
    "max(temperaturas_diciembre)"
   ]
  },
  {
   "cell_type": "code",
   "execution_count": 36,
   "id": "3de5ab53",
   "metadata": {},
   "outputs": [
    {
     "data": {
      "text/plain": [
       "2"
      ]
     },
     "execution_count": 36,
     "metadata": {},
     "output_type": "execute_result"
    }
   ],
   "source": [
    "# 28. Encuentra el índice de 'miércoles' en dias_es.\n",
    "dias_en.index('wednesday')"
   ]
  },
  {
   "cell_type": "code",
   "execution_count": 46,
   "id": "fee9411d",
   "metadata": {},
   "outputs": [
    {
     "name": "stdout",
     "output_type": "stream",
     "text": [
      "La temperatura máxima esta semana será 31, la tendremos 1 días(s).\n",
      "El día más frío tendrá una temperatura máxima de 28, la tendremos 2 día(s).\n"
     ]
    }
   ],
   "source": [
    "# 29. Imprime esta frase en pantalla: DE LA SEMANA QUE DEFINIMOS AL PPIO\n",
    "# 'La temperatura máxima esta semana será 14 ºC, que ocurrirá en 1 días(s). El día más frío tendrá una temperatura máxima de 10 ºC, que ocurrirá en 2 día(s).'\n",
    "print(f'La temperatura máxima esta semana será {t_max}, la tendremos {temperaturas.count(t_max)} días(s).')\n",
    "print(f'El día más frío tendrá una temperatura máxima de {t_min}, la tendremos {temperaturas.count(t_min)} día(s).')"
   ]
  },
  {
   "cell_type": "markdown",
   "id": "4501d3ee",
   "metadata": {},
   "source": [
    "1. Duplicar elementos de una lista\n",
    "- Descripción: Dada una lista de números, duplica cada elemento en la lista. (output esperado: [2, 4, 6, 8, 2, 4, 6, 8])"
   ]
  },
  {
   "cell_type": "code",
   "execution_count": 48,
   "id": "9a37d5b2",
   "metadata": {},
   "outputs": [
    {
     "data": {
      "text/plain": [
       "[2, 4, 6, 8, 2, 4, 6, 8]"
      ]
     },
     "execution_count": 48,
     "metadata": {},
     "output_type": "execute_result"
    }
   ],
   "source": [
    "lista = [2, 4, 6, 8]\n",
    "lista_duplicada = lista + lista\n",
    "lista_duplicada"
   ]
  },
  {
   "cell_type": "markdown",
   "id": "50b97a72",
   "metadata": {},
   "source": [
    "2. Combinar dos listas\n",
    "- Descripción: Dadas dos listas, crea una nueva lista que contenga todos los elementos de ambas listas."
   ]
  },
  {
   "cell_type": "code",
   "execution_count": 49,
   "id": "f8d6b384",
   "metadata": {},
   "outputs": [
    {
     "data": {
      "text/plain": [
       "[1, 2, 3, 4, 5, 6]"
      ]
     },
     "execution_count": 49,
     "metadata": {},
     "output_type": "execute_result"
    }
   ],
   "source": [
    "lista1 = [1, 2, 3]\n",
    "lista2 = [4, 5, 6]\n",
    "lista_total = lista1 + lista2\n",
    "lista_total"
   ]
  },
  {
   "cell_type": "markdown",
   "id": "6dc4f944",
   "metadata": {},
   "source": [
    "3. Calcular la suma de una lista de números"
   ]
  },
  {
   "cell_type": "code",
   "execution_count": 50,
   "id": "028f28a6",
   "metadata": {},
   "outputs": [
    {
     "data": {
      "text/plain": [
       "21"
      ]
     },
     "execution_count": 50,
     "metadata": {},
     "output_type": "execute_result"
    }
   ],
   "source": [
    "suma = sum(lista_total)\n",
    "suma"
   ]
  },
  {
   "cell_type": "markdown",
   "id": "ec00fa10",
   "metadata": {},
   "source": [
    "8. Obtener una sublista de una lista\n",
    "- Descripción: Dada una lista, crea una nueva lista que contenga los elementos desde el índice 2 hasta el índice 5 (sin incluirlo)."
   ]
  },
  {
   "cell_type": "code",
   "execution_count": 51,
   "id": "8f3d6e44",
   "metadata": {},
   "outputs": [
    {
     "data": {
      "text/plain": [
       "[3, 4, 5]"
      ]
     },
     "execution_count": 51,
     "metadata": {},
     "output_type": "execute_result"
    }
   ],
   "source": [
    "sub = lista_total [2:5]\n",
    "sub"
   ]
  },
  {
   "cell_type": "markdown",
   "id": "cde04482",
   "metadata": {},
   "source": [
    "12. Reemplazar un elemento en una lista\n",
    "- Descripción: Dada una lista, reemplaza el segundo elemento con un nuevo valor."
   ]
  },
  {
   "cell_type": "code",
   "execution_count": 52,
   "id": "d9293ce2",
   "metadata": {},
   "outputs": [
    {
     "data": {
      "text/plain": [
       "[3, 8, 5]"
      ]
     },
     "execution_count": 52,
     "metadata": {},
     "output_type": "execute_result"
    }
   ],
   "source": [
    "sub[1] = 8\n",
    "sub"
   ]
  },
  {
   "cell_type": "markdown",
   "id": "2fecf092",
   "metadata": {},
   "source": [
    "13. Obtener una lista inversa\n",
    "- Descripción: Dada una lista, obtén una nueva lista que contenga los elementos en orden inverso."
   ]
  },
  {
   "cell_type": "code",
   "execution_count": 57,
   "id": "ff652ed1",
   "metadata": {},
   "outputs": [
    {
     "data": {
      "text/plain": [
       "[3, 5, 8]"
      ]
     },
     "execution_count": 57,
     "metadata": {},
     "output_type": "execute_result"
    }
   ],
   "source": [
    "sub_reversed = sorted(sub)\n",
    "sub_reversed"
   ]
  },
  {
   "cell_type": "markdown",
   "id": "1fc3f1fa",
   "metadata": {},
   "source": [
    "14. Ordenar una lista en orden ascendente\n",
    "- Descripción: Dada una lista de números, ordénala en orden ascendente."
   ]
  },
  {
   "cell_type": "code",
   "execution_count": 59,
   "id": "02eb5c2d",
   "metadata": {},
   "outputs": [
    {
     "data": {
      "text/plain": [
       "[2, 2, 4, 4, 6, 6, 8, 8]"
      ]
     },
     "execution_count": 59,
     "metadata": {},
     "output_type": "execute_result"
    }
   ],
   "source": [
    "lista_duplicada.sort()\n",
    "lista_duplicada"
   ]
  },
  {
   "cell_type": "markdown",
   "id": "21dab090",
   "metadata": {},
   "source": [
    "15. Obtener elementos pares de una lista\n",
    "- Descripción: Dada una lista, obtén una nueva lista que contenga solo los elementos en posiciones pares.  (lenguaje humano; índices de la lista, no los valores)"
   ]
  },
  {
   "cell_type": "code",
   "execution_count": 60,
   "id": "a5abea88",
   "metadata": {},
   "outputs": [
    {
     "data": {
      "text/plain": [
       "[2, 4, 6, 8]"
      ]
     },
     "execution_count": 60,
     "metadata": {},
     "output_type": "execute_result"
    }
   ],
   "source": [
    "lista_pares = lista_duplicada[1: :2]\n",
    "lista_pares"
   ]
  },
  {
   "cell_type": "markdown",
   "id": "60edbb3f",
   "metadata": {},
   "source": [
    "16. Obtener una sublista saltando elementos\n",
    "- Descripción: Dada una lista, obtén una sublista que contenga los elementos saltando de 3 en 3."
   ]
  },
  {
   "cell_type": "code",
   "execution_count": null,
   "id": "4ff90e55",
   "metadata": {},
   "outputs": [],
   "source": []
  }
 ],
 "metadata": {
  "kernelspec": {
   "display_name": "base",
   "language": "python",
   "name": "python3"
  },
  "language_info": {
   "codemirror_mode": {
    "name": "ipython",
    "version": 3
   },
   "file_extension": ".py",
   "mimetype": "text/x-python",
   "name": "python",
   "nbconvert_exporter": "python",
   "pygments_lexer": "ipython3",
   "version": "3.12.3"
  }
 },
 "nbformat": 4,
 "nbformat_minor": 5
}
