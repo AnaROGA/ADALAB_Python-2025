{
 "cells": [
  {
   "cell_type": "markdown",
   "id": "b8426925",
   "metadata": {},
   "source": [
    "## INDICE\n",
    "- [Variables](#variables)\n",
    "- [Listas](#listas)\n",
    "- [Tuplas](#tuplas)  \n",
    "[Función ZIP](#funcion-zip)\n",
    "- [Diccionarios](#diccionarios)"
   ]
  },
  {
   "cell_type": "markdown",
   "id": "dda2a6bb",
   "metadata": {},
   "source": [
    "## VARIABLES   "
   ]
  },
  {
   "cell_type": "markdown",
   "id": "ad15bb77",
   "metadata": {},
   "source": [
    "## LISTAS"
   ]
  },
  {
   "cell_type": "code",
   "execution_count": 16,
   "id": "d77a1cb4",
   "metadata": {},
   "outputs": [],
   "source": [
    "# 1 Haz una lista llamada colores donde almacenemos los primeros 6 colores que te vengan a la mente.\n",
    "colores = ['azul', 'verde', 'amarillo', 'negro', 'violeta', 'blanco']\n",
    "# 2. Haz una lista llamada buses de las líneas de autobuses que pasan por tu casa.\n",
    "buses = ['H10', 'V27', '47']\n",
    "# 3. Apunta la previsión de temperaturas máximas para todos los días de esta semana en temperaturas.\n",
    "temperaturas = [28, 28, 30, 29, 29, 30, 31]"
   ]
  },
  {
   "cell_type": "code",
   "execution_count": 17,
   "id": "ee7f95fc",
   "metadata": {},
   "outputs": [
    {
     "name": "stdout",
     "output_type": "stream",
     "text": [
      "['A', 'n', 'a', ' ', 'M', 'a', 'r', 'í', 'a']\n",
      "['R', 'o', 'b', 'l', 'e', 's', ' ', 'G', 'a', 'r', 'c', 'í', 'a']\n"
     ]
    }
   ],
   "source": [
    "# 4. Convierte tu(s) nombre(s) a una lista nombres de caracteres.\n",
    "nombre = 'Ana María'\n",
    "lista_nombre = list(nombre)\n",
    "print(lista_nombre)\n",
    "# 5. Convierte tu(s) apellido(s) a una lista apellidos de caracteres.\n",
    "apellidos = 'Robles García'\n",
    "lista_apellidos = list(apellidos)\n",
    "print(lista_apellidos)"
   ]
  },
  {
   "cell_type": "code",
   "execution_count": 18,
   "id": "113395b0",
   "metadata": {},
   "outputs": [
    {
     "data": {
      "text/plain": [
       "3"
      ]
     },
     "execution_count": 18,
     "metadata": {},
     "output_type": "execute_result"
    }
   ],
   "source": [
    "# 6. ¿Cuántos búses pasan por tu casa?\n",
    "len(buses)"
   ]
  },
  {
   "cell_type": "code",
   "execution_count": 19,
   "id": "0e5000ad",
   "metadata": {},
   "outputs": [
    {
     "data": {
      "text/plain": [
       "13"
      ]
     },
     "execution_count": 19,
     "metadata": {},
     "output_type": "execute_result"
    }
   ],
   "source": [
    "# 7. ¿Cuántos caracteres hay en tu apellido(s) (inluyendo los espacios)?\n",
    "len(lista_apellidos)"
   ]
  },
  {
   "cell_type": "code",
   "execution_count": 20,
   "id": "6af5814f",
   "metadata": {},
   "outputs": [
    {
     "name": "stdout",
     "output_type": "stream",
     "text": [
      "Temperaturas: \n",
      " Máxima: 31 \n",
      " Mínima: 28\n"
     ]
    }
   ],
   "source": [
    "# 8. ¿Cuáles son las temperaturas máximas (t_max) y mínimas (t_min) para esta semana?\n",
    "t_max = max(temperaturas)\n",
    "t_min = min(temperaturas)\n",
    "print(f'Temperaturas: \\n Máxima: {t_max} \\n Mínima: {t_min}')"
   ]
  },
  {
   "cell_type": "code",
   "execution_count": 21,
   "id": "14a3ab87",
   "metadata": {},
   "outputs": [
    {
     "name": "stdout",
     "output_type": "stream",
     "text": [
      "Hay \"e\" en mi nombre: False\n",
      "Está el color ROSA en la lista: False\n",
      "No hay \"x\" en mi nombre: True\n"
     ]
    }
   ],
   "source": [
    "# 9. Hay una 'e' en tu nombre?\n",
    "print('Hay \"e\" en mi nombre:', 'e' in lista_nombre)\n",
    "# 10. Tienes el color 'rosa' en la lista de colores?\n",
    "print('Está el color ROSA en la lista:', 'rosa' in colores)\n",
    "# 11. ¿Tiene una 'x' tu nombre? (Usa not in)\n",
    "print('No hay \"x\" en mi nombre:', 'x' not in lista_nombre)"
   ]
  },
  {
   "cell_type": "code",
   "execution_count": 22,
   "id": "957d36c4",
   "metadata": {},
   "outputs": [],
   "source": [
    "# 12. Copia el contenido de temperaturas a temperaturas2, y temperaturas3.\n",
    "temperaturas2 = temperaturas.copy()\n",
    "temperaturas3 = temperaturas.copy()"
   ]
  },
  {
   "cell_type": "code",
   "execution_count": 23,
   "id": "3c0aa07b",
   "metadata": {},
   "outputs": [
    {
     "name": "stdout",
     "output_type": "stream",
     "text": [
      "[28, 28, 30, 29, 29, 30, 31]\n",
      "[]\n"
     ]
    }
   ],
   "source": [
    "# 13. Vacía el contenido de la variable temperaturas2\n",
    "temperaturas2.clear()\n",
    "# 14. Imprime el contenido de temperaturas y temperaturas2.\n",
    "print(temperaturas)\n",
    "print(temperaturas2)"
   ]
  },
  {
   "cell_type": "code",
   "execution_count": 24,
   "id": "29a1063b",
   "metadata": {},
   "outputs": [],
   "source": [
    "# 15. Copia el contenido de nombres a nombres2.\n",
    "nombres2 = lista_nombre.copy()\n",
    "# 16. Copia el contenido de apellidos a apellidos2.\n",
    "apellidos2 = lista_apellidos.copy()"
   ]
  },
  {
   "cell_type": "code",
   "execution_count": 25,
   "id": "723e3082",
   "metadata": {},
   "outputs": [
    {
     "data": {
      "text/plain": [
       "[31, 30, 30, 29, 29, 28, 28]"
      ]
     },
     "execution_count": 25,
     "metadata": {},
     "output_type": "execute_result"
    }
   ],
   "source": [
    "# 17. Ordena la variable temperaturas3 de mayor a menor.\n",
    "temperaturas3.sort(reverse = True)\n",
    "temperaturas3"
   ]
  },
  {
   "cell_type": "code",
   "execution_count": 26,
   "id": "633a1503",
   "metadata": {},
   "outputs": [
    {
     "name": "stdout",
     "output_type": "stream",
     "text": [
      "[' ', 'A', 'M', 'a', 'a', 'a', 'n', 'r', 'í'] --> orden alfabético, SÍ distingue entre M de m\n",
      "[' ', 'G', 'R', 'a', 'a', 'b', 'c', 'e', 'l', 'o', 'r', 's', 'í']\n",
      "--> orden alfabético, SÍ distingue entre M de m\n"
     ]
    }
   ],
   "source": [
    "# 18. Ordena los caracteres de tu nombre y tu apellido en las listas nombres2 y apellidos2. \n",
    "# Imprime el resultado y investiga: ¿qué orden ha cogido? ¿Cómo trata las mayúsculas?\n",
    "nombres2.sort()\n",
    "apellidos2.sort()\n",
    "print(nombres2, '--> orden alfabético, SÍ distingue entre M de m')\n",
    "print(apellidos2)\n",
    "print('--> orden alfabético, SÍ distingue entre M de m')"
   ]
  },
  {
   "cell_type": "code",
   "execution_count": 27,
   "id": "36308b5a",
   "metadata": {},
   "outputs": [
    {
     "name": "stdout",
     "output_type": "stream",
     "text": [
      "Num \"a\" : 4. \n",
      "Num \"o\" : 0. \n"
     ]
    }
   ],
   "source": [
    "# 19. ¿Cuántas 'a' tiene tu nombre? ¿Y cuántas 'o'?\n",
    "num_a_nombre = nombres2.count('a') + nombres2.count('A')\n",
    "num_o_nombre = nombres2.count('o') + nombres2.count('O')\n",
    "print(f'Num \"a\" : {num_a_nombre}. \\nNum \"o\" : {num_o_nombre}. ')"
   ]
  },
  {
   "cell_type": "code",
   "execution_count": 28,
   "id": "126958ea",
   "metadata": {},
   "outputs": [
    {
     "name": "stdout",
     "output_type": "stream",
     "text": [
      "True\n",
      "True\n"
     ]
    }
   ],
   "source": [
    "# 20. Verifica si los resultados de ejercicio 19 son iguales para la lista nombres2.\n",
    "num_a_nombre_lista = lista_nombre.count('a') + lista_nombre.count('A')\n",
    "num_o_nombre_lista = lista_nombre.count('o') + lista_nombre.count('O')\n",
    "print(num_a_nombre == num_a_nombre_lista)\n",
    "print(num_o_nombre == num_o_nombre_lista)"
   ]
  },
  {
   "cell_type": "code",
   "execution_count": 29,
   "id": "c8a1545c",
   "metadata": {},
   "outputs": [
    {
     "name": "stdout",
     "output_type": "stream",
     "text": [
      "T máxima: 1 veces. \n",
      "T mínima: 2 veces.\n"
     ]
    }
   ],
   "source": [
    "# 21. ¿Cuántas veces esta semana llega la temperatura a la t_max? ¿Y cuántas a la t_min?\n",
    "veces_tmax = temperaturas.count(t_max)\n",
    "veces_tmin = temperaturas.count(t_min)\n",
    "print(f'T máxima: {veces_tmax} veces. \\nT mínima: {veces_tmin} veces.')"
   ]
  },
  {
   "cell_type": "code",
   "execution_count": 30,
   "id": "c7c9ab3d",
   "metadata": {},
   "outputs": [],
   "source": [
    "# 22. La lista dias_en contiene 'monday', 'tuesday', 'wednesday', 'thursday', 'friday', 'saturday', y 'sunday'.\n",
    "dias_en = ['monday', 'tuesday', 'wednesday', 'thursday', 'friday', 'saturday', 'sunday']\n",
    "# 23\n",
    "temperaturas_diciembre = [10, 10, 13, 14, 12, 15, \n",
    "                        12, 11, 13, 17, 18, 15, \n",
    "                        15, 17, 17, 13, 13, 11,\n",
    "                        12, 10, 12, 14, 12, 12,\n",
    "                        11, 12, 16, 16, 14, 17, 18]\n"
   ]
  },
  {
   "cell_type": "code",
   "execution_count": 31,
   "id": "f7b115d7",
   "metadata": {},
   "outputs": [
    {
     "data": {
      "text/plain": [
       "'saturday'"
      ]
     },
     "execution_count": 31,
     "metadata": {},
     "output_type": "execute_result"
    }
   ],
   "source": [
    "# 24. ¿Cuál es el penúltimo día de la semana?\n",
    "dias_en[5] # ó [-2]"
   ]
  },
  {
   "cell_type": "code",
   "execution_count": 32,
   "id": "25303c61",
   "metadata": {},
   "outputs": [
    {
     "data": {
      "text/plain": [
       "18"
      ]
     },
     "execution_count": 32,
     "metadata": {},
     "output_type": "execute_result"
    }
   ],
   "source": [
    "# 25. ¿Cuál es el último elemento de la lista de temperaturas de diciembre?\n",
    "temperaturas_diciembre[-1]"
   ]
  },
  {
   "cell_type": "code",
   "execution_count": 33,
   "id": "fc6dc257",
   "metadata": {},
   "outputs": [
    {
     "name": "stdout",
     "output_type": "stream",
     "text": [
      "True\n",
      "4\n"
     ]
    }
   ],
   "source": [
    "# 26. ¿Está 'friday' en la lista de días en inglés? Si está, ¿dónde?\n",
    "print('friday' in dias_en)\n",
    "print(dias_en.index('friday'))"
   ]
  },
  {
   "cell_type": "code",
   "execution_count": 34,
   "id": "324840d7",
   "metadata": {},
   "outputs": [
    {
     "data": {
      "text/plain": [
       "18"
      ]
     },
     "execution_count": 34,
     "metadata": {},
     "output_type": "execute_result"
    }
   ],
   "source": [
    "# 27. ¿Cuál era la temperatura máxima en diciembre?\n",
    "max(temperaturas_diciembre)"
   ]
  },
  {
   "cell_type": "code",
   "execution_count": 35,
   "id": "3de5ab53",
   "metadata": {},
   "outputs": [
    {
     "data": {
      "text/plain": [
       "2"
      ]
     },
     "execution_count": 35,
     "metadata": {},
     "output_type": "execute_result"
    }
   ],
   "source": [
    "# 28. Encuentra el índice de 'miércoles' en dias_es.\n",
    "dias_en.index('wednesday')"
   ]
  },
  {
   "cell_type": "code",
   "execution_count": 36,
   "id": "fee9411d",
   "metadata": {},
   "outputs": [
    {
     "name": "stdout",
     "output_type": "stream",
     "text": [
      "La temperatura máxima esta semana será 31, la tendremos 1 días(s).\n",
      "El día más frío tendrá una temperatura máxima de 28, la tendremos 2 día(s).\n"
     ]
    }
   ],
   "source": [
    "# 29. Imprime esta frase en pantalla: DE LA SEMANA QUE DEFINIMOS AL PPIO\n",
    "# 'La temperatura máxima esta semana será 14 ºC, que ocurrirá en 1 días(s). El día más frío tendrá una temperatura máxima de 10 ºC, que ocurrirá en 2 día(s).'\n",
    "print(f'La temperatura máxima esta semana será {t_max}, la tendremos {temperaturas.count(t_max)} días(s).')\n",
    "print(f'El día más frío tendrá una temperatura máxima de {t_min}, la tendremos {temperaturas.count(t_min)} día(s).')"
   ]
  },
  {
   "cell_type": "markdown",
   "id": "4501d3ee",
   "metadata": {},
   "source": [
    "1. Duplicar elementos de una lista\n",
    "- Descripción: Dada una lista de números, duplica cada elemento en la lista. (output esperado: [2, 4, 6, 8, 2, 4, 6, 8])"
   ]
  },
  {
   "cell_type": "code",
   "execution_count": 37,
   "id": "9a37d5b2",
   "metadata": {},
   "outputs": [
    {
     "data": {
      "text/plain": [
       "[2, 4, 6, 8, 2, 4, 6, 8]"
      ]
     },
     "execution_count": 37,
     "metadata": {},
     "output_type": "execute_result"
    }
   ],
   "source": [
    "lista = [2, 4, 6, 8]\n",
    "lista_duplicada = lista + lista\n",
    "lista_duplicada"
   ]
  },
  {
   "cell_type": "markdown",
   "id": "50b97a72",
   "metadata": {},
   "source": [
    "2. Combinar dos listas\n",
    "- Descripción: Dadas dos listas, crea una nueva lista que contenga todos los elementos de ambas listas."
   ]
  },
  {
   "cell_type": "code",
   "execution_count": 38,
   "id": "f8d6b384",
   "metadata": {},
   "outputs": [
    {
     "data": {
      "text/plain": [
       "[1, 2, 3, 4, 5, 6]"
      ]
     },
     "execution_count": 38,
     "metadata": {},
     "output_type": "execute_result"
    }
   ],
   "source": [
    "lista1 = [1, 2, 3]\n",
    "lista2 = [4, 5, 6]\n",
    "lista_total = lista1 + lista2\n",
    "lista_total"
   ]
  },
  {
   "cell_type": "markdown",
   "id": "6dc4f944",
   "metadata": {},
   "source": [
    "3. Calcular la suma de una lista de números"
   ]
  },
  {
   "cell_type": "code",
   "execution_count": 39,
   "id": "028f28a6",
   "metadata": {},
   "outputs": [
    {
     "data": {
      "text/plain": [
       "21"
      ]
     },
     "execution_count": 39,
     "metadata": {},
     "output_type": "execute_result"
    }
   ],
   "source": [
    "suma = sum(lista_total)\n",
    "suma"
   ]
  },
  {
   "cell_type": "markdown",
   "id": "ec00fa10",
   "metadata": {},
   "source": [
    "8. Obtener una sublista de una lista\n",
    "- Descripción: Dada una lista, crea una nueva lista que contenga los elementos desde el índice 2 hasta el índice 5 (sin incluirlo)."
   ]
  },
  {
   "cell_type": "code",
   "execution_count": 40,
   "id": "8f3d6e44",
   "metadata": {},
   "outputs": [
    {
     "data": {
      "text/plain": [
       "[3, 4, 5]"
      ]
     },
     "execution_count": 40,
     "metadata": {},
     "output_type": "execute_result"
    }
   ],
   "source": [
    "sub = lista_total [2:5]\n",
    "sub"
   ]
  },
  {
   "cell_type": "markdown",
   "id": "cde04482",
   "metadata": {},
   "source": [
    "12. Reemplazar un elemento en una lista\n",
    "- Descripción: Dada una lista, reemplaza el segundo elemento con un nuevo valor."
   ]
  },
  {
   "cell_type": "code",
   "execution_count": 41,
   "id": "d9293ce2",
   "metadata": {},
   "outputs": [
    {
     "data": {
      "text/plain": [
       "[3, 8, 5]"
      ]
     },
     "execution_count": 41,
     "metadata": {},
     "output_type": "execute_result"
    }
   ],
   "source": [
    "sub[1] = 8\n",
    "sub"
   ]
  },
  {
   "cell_type": "markdown",
   "id": "2fecf092",
   "metadata": {},
   "source": [
    "13. Obtener una lista inversa\n",
    "- Descripción: Dada una lista, obtén una nueva lista que contenga los elementos en orden inverso."
   ]
  },
  {
   "cell_type": "code",
   "execution_count": 42,
   "id": "ff652ed1",
   "metadata": {},
   "outputs": [
    {
     "data": {
      "text/plain": [
       "[3, 5, 8]"
      ]
     },
     "execution_count": 42,
     "metadata": {},
     "output_type": "execute_result"
    }
   ],
   "source": [
    "sub_reversed = sorted(sub)\n",
    "sub_reversed"
   ]
  },
  {
   "cell_type": "markdown",
   "id": "1fc3f1fa",
   "metadata": {},
   "source": [
    "14. Ordenar una lista en orden ascendente\n",
    "- Descripción: Dada una lista de números, ordénala en orden ascendente."
   ]
  },
  {
   "cell_type": "code",
   "execution_count": 43,
   "id": "02eb5c2d",
   "metadata": {},
   "outputs": [
    {
     "data": {
      "text/plain": [
       "[2, 2, 4, 4, 6, 6, 8, 8]"
      ]
     },
     "execution_count": 43,
     "metadata": {},
     "output_type": "execute_result"
    }
   ],
   "source": [
    "lista_duplicada.sort()\n",
    "lista_duplicada"
   ]
  },
  {
   "cell_type": "markdown",
   "id": "21dab090",
   "metadata": {},
   "source": [
    "15. Obtener elementos pares de una lista\n",
    "- Descripción: Dada una lista, obtén una nueva lista que contenga solo los elementos en posiciones pares.  (lenguaje humano; índices de la lista, no los valores)"
   ]
  },
  {
   "cell_type": "code",
   "execution_count": 44,
   "id": "a5abea88",
   "metadata": {},
   "outputs": [
    {
     "data": {
      "text/plain": [
       "[2, 4, 6, 8]"
      ]
     },
     "execution_count": 44,
     "metadata": {},
     "output_type": "execute_result"
    }
   ],
   "source": [
    "lista_pares = lista_duplicada[1: :2]\n",
    "lista_pares"
   ]
  },
  {
   "cell_type": "markdown",
   "id": "60edbb3f",
   "metadata": {},
   "source": [
    "16. Obtener una sublista saltando elementos\n",
    "- Descripción: Dada una lista, obtén una sublista que contenga los elementos saltando de 3 en 3."
   ]
  },
  {
   "cell_type": "code",
   "execution_count": 45,
   "id": "4ff90e55",
   "metadata": {},
   "outputs": [
    {
     "data": {
      "text/plain": [
       "[2, 8, 14, 20]"
      ]
     },
     "execution_count": 45,
     "metadata": {},
     "output_type": "execute_result"
    }
   ],
   "source": [
    "lista = [2, 4, 6, 8, 10, 12, 14, 16, 18, 20]\n",
    "lista_ej16 = lista[: :3]\n",
    "lista_ej16"
   ]
  },
  {
   "cell_type": "markdown",
   "id": "ea533b15",
   "metadata": {},
   "source": [
    "17. Encontrar el segundo valor máximo en una lista\n",
    "- Descripción: Dada una lista de números, encuentra el segundo valor máximo.  \n",
    "No funcionaría con listas con valores repetidos: bucle for (más tarde)"
   ]
  },
  {
   "cell_type": "code",
   "execution_count": 46,
   "id": "28288303",
   "metadata": {},
   "outputs": [],
   "source": [
    "lista = [2, 4, 6, 8, 10, 12, 14, 16, 18, 20]"
   ]
  },
  {
   "cell_type": "code",
   "execution_count": 47,
   "id": "e00fb220",
   "metadata": {},
   "outputs": [
    {
     "name": "stdout",
     "output_type": "stream",
     "text": [
      "El 2o mayor valor es: 18.\n"
     ]
    }
   ],
   "source": [
    "v_max = max(lista) # --> 20\n",
    "index_v_max = lista.index(v_max) # --> 9\n",
    "lista.pop(9)\n",
    "v_max2 = max(lista)\n",
    "print(f'El 2o mayor valor es: {v_max2}.')"
   ]
  },
  {
   "cell_type": "code",
   "execution_count": null,
   "id": "7c2077da",
   "metadata": {},
   "outputs": [
    {
     "data": {
      "text/plain": [
       "6"
      ]
     },
     "execution_count": 60,
     "metadata": {},
     "output_type": "execute_result"
    }
   ],
   "source": [
    "nlista = lista.pop(2)\n",
    "nlista # --> 6, no la lista sin el 20"
   ]
  },
  {
   "cell_type": "code",
   "execution_count": null,
   "id": "0d3ae2ff",
   "metadata": {},
   "outputs": [
    {
     "name": "stdout",
     "output_type": "stream",
     "text": [
      "7\n"
     ]
    }
   ],
   "source": [
    "# Solución ejercicios resueltos: \n",
    "lista_ejr = [7, 2, 9, 1, 5]\n",
    "maximo = max(lista_ejr)\n",
    "lista_ejr.remove(maximo) # elimina la 1a a aparición de ese elemento\n",
    "segundo_maximo = max(lista_ejr)\n",
    "print(segundo_maximo)"
   ]
  },
  {
   "cell_type": "markdown",
   "id": "aa374dae",
   "metadata": {},
   "source": [
    "19. Agregar elementos a una lista utilizando append y extend\n",
    "- Descripción: Dada una lista inicial, agrega nuevos elementos utilizando tanto `append` como `extend` y observa las diferencias en el resultado final. \n",
    "- El elemento que deberéis usar para añadir a la lista original tiene que ser una lista."
   ]
  },
  {
   "cell_type": "code",
   "execution_count": null,
   "id": "63ad50eb",
   "metadata": {},
   "outputs": [],
   "source": [
    "lista = [2, 4, 6, 8, 10, 12, 14, 16, 18, 20]\n",
    "otra = [1,2,3]"
   ]
  },
  {
   "cell_type": "code",
   "execution_count": null,
   "id": "613c0053",
   "metadata": {},
   "outputs": [
    {
     "name": "stdout",
     "output_type": "stream",
     "text": [
      "Con append: [2, 4, 6, 8, 10, 12, 14, 16, 18, 20, [1, 2, 3]]. --> mete la lista entera como un elemento \n",
      "Con extend: [2, 4, 6, 8, 10, 12, 14, 16, 18, 20, 1, 2, 3].\n"
     ]
    }
   ],
   "source": [
    "lista_app = lista.copy()\n",
    "lista_ext = lista.copy()\n",
    "\n",
    "# append()\n",
    "lista_app.append(otra)\n",
    "\n",
    "# extend()\n",
    "lista_ext.extend(otra)\n",
    "\n",
    "print(f'Con append: {lista_app}. --> mete la lista entera como un elemento \\nCon extend: {lista_ext}.')"
   ]
  },
  {
   "cell_type": "markdown",
   "id": "680b2a88",
   "metadata": {},
   "source": [
    "20. Insertar un elemento en una posición específica\n",
    "- Descripción: Dada una lista, inserta un nuevo elemento en una posición específica determinada por el usuario  \n",
    "(debereis usar la función input para preguntar al usuario en que posición quiere insertar el elemento)."
   ]
  },
  {
   "cell_type": "code",
   "execution_count": null,
   "id": "80cf042c",
   "metadata": {},
   "outputs": [],
   "source": [
    "lista = [2, 4, 6, 8, 10, 12, 14, 16, 18, 20]"
   ]
  },
  {
   "cell_type": "code",
   "execution_count": null,
   "id": "d48b6f6c",
   "metadata": {},
   "outputs": [
    {
     "name": "stdout",
     "output_type": "stream",
     "text": [
      "[2, 4, 5, 6, 8, 10, 12, 14, 16, 18, 20]\n"
     ]
    }
   ],
   "source": [
    "# elemento = int(input(\"Ingrese el elemento a añadir: \"))\n",
    "# posicion = int(input(\"Ingrese la posición de inserción: \"))\n",
    "\n",
    "# lista.insert(posicion, elemento)\n",
    "# print(lista)"
   ]
  },
  {
   "cell_type": "markdown",
   "id": "2d95caeb",
   "metadata": {},
   "source": [
    "21. Verificar si un elemento está presente en una lista\n",
    "- Descripción: Dada una lista, verifica si un elemento específico está presente en ella.  \n",
    "Igual que el caso anterior, debereis preguntar al usuario que elemento quiere buscar en la lista. El resultado deberá ser True o False."
   ]
  },
  {
   "cell_type": "code",
   "execution_count": null,
   "id": "3d952591",
   "metadata": {},
   "outputs": [],
   "source": [
    "lista = [2, 4, 6, 8, 10, 12, 14, 16, 18, 20]"
   ]
  },
  {
   "cell_type": "code",
   "execution_count": null,
   "id": "7102f666",
   "metadata": {},
   "outputs": [
    {
     "name": "stdout",
     "output_type": "stream",
     "text": [
      "El elemento introducido se encuentra en la lista: False.\n"
     ]
    }
   ],
   "source": [
    "# elemento = int(input(\"Ingrese el elemento: \"))\n",
    "\n",
    "# existencia_elemento = elemento in lista\n",
    "# print(f'El elemento introducido se encuentra en la lista: {existencia_elemento}.')"
   ]
  },
  {
   "cell_type": "markdown",
   "id": "5a94f081",
   "metadata": {},
   "source": [
    "22. Manipulación de una lista utilizando remove(), pop() y clear()\n",
    "- Descripción: Crea una lista inicial, realiza operaciones de eliminación y limpieza utilizando los métodos:  \n",
    "`remove()`, `pop()` y `clear()`, y observa cómo afectan a la lista."
   ]
  },
  {
   "cell_type": "code",
   "execution_count": null,
   "id": "1648b53f",
   "metadata": {},
   "outputs": [],
   "source": [
    "lista_22 = [2, 4, 6, 8, 10, 10, 12, 14, 16, 18, 20]"
   ]
  },
  {
   "cell_type": "code",
   "execution_count": null,
   "id": "e953337c",
   "metadata": {},
   "outputs": [
    {
     "data": {
      "text/plain": [
       "[2, 4, 6, 8, 10, 12, 14, 16, 18, 20]"
      ]
     },
     "execution_count": 82,
     "metadata": {},
     "output_type": "execute_result"
    }
   ],
   "source": [
    "lista_22.remove(10) # quita la 1a aparición de ese elemento\n",
    "lista_22"
   ]
  },
  {
   "cell_type": "code",
   "execution_count": null,
   "id": "0597d4ab",
   "metadata": {},
   "outputs": [
    {
     "data": {
      "text/plain": [
       "[2, 4, 6, 12, 14, 16, 18, 20]"
      ]
     },
     "execution_count": 85,
     "metadata": {},
     "output_type": "execute_result"
    }
   ],
   "source": [
    "lista_22.pop(3) # --> resultado sale: 8\n",
    "lista_22"
   ]
  },
  {
   "cell_type": "code",
   "execution_count": null,
   "id": "5ece4251",
   "metadata": {},
   "outputs": [
    {
     "data": {
      "text/plain": [
       "[]"
      ]
     },
     "execution_count": 86,
     "metadata": {},
     "output_type": "execute_result"
    }
   ],
   "source": [
    "lista_22.clear()\n",
    "lista_22"
   ]
  },
  {
   "cell_type": "markdown",
   "id": "fe8800ec",
   "metadata": {},
   "source": [
    "## TUPLAS"
   ]
  },
  {
   "cell_type": "markdown",
   "id": "2aedb634",
   "metadata": {},
   "source": [
    "Objetos NO MUTABLES, ordenados (se puede indexar), HETEROGÉNEOS"
   ]
  },
  {
   "cell_type": "code",
   "execution_count": null,
   "id": "fb1fdff3",
   "metadata": {},
   "outputs": [
    {
     "data": {
      "text/plain": [
       "(61, 1.54, 'pelo marron')"
      ]
     },
     "execution_count": 1,
     "metadata": {},
     "output_type": "execute_result"
    }
   ],
   "source": [
    "# 1. Crea una tupla `persona1` para juntar los siguientes datos: 61 kg, 1.54 m altura, pelo marrón, sin usar paréntesis. \n",
    "# (Serán del tipo `int`, `float` y `str`.)\n",
    "persona1 = 61, 1.54, \"pelo marron\"\n",
    "persona1"
   ]
  },
  {
   "cell_type": "code",
   "execution_count": null,
   "id": "0df339ee",
   "metadata": {},
   "outputs": [
    {
     "data": {
      "text/plain": [
       "(68, 1.65, 'pelo rubio')"
      ]
     },
     "execution_count": 12,
     "metadata": {},
     "output_type": "execute_result"
    }
   ],
   "source": [
    "# 2. Crea una tupla para la `persona2` de 68 kg, 1.65 m y pelo rubio, usando paréntesis\n",
    "persona2 = (68, 1.65, \"pelo rubio\")\n",
    "persona2"
   ]
  },
  {
   "cell_type": "code",
   "execution_count": null,
   "id": "c073a936",
   "metadata": {},
   "outputs": [
    {
     "data": {
      "text/plain": [
       "['M', 42, 39]"
      ]
     },
     "execution_count": 3,
     "metadata": {},
     "output_type": "execute_result"
    }
   ],
   "source": [
    "#  3. Crea una lista `talla` que recompila 'M', 42, y 39.\n",
    "talla = [\"M\", 42, 39]\n",
    "talla"
   ]
  },
  {
   "cell_type": "code",
   "execution_count": null,
   "id": "313ff661",
   "metadata": {},
   "outputs": [
    {
     "data": {
      "text/plain": [
       "('M', 42, 39)"
      ]
     },
     "execution_count": 4,
     "metadata": {},
     "output_type": "execute_result"
    }
   ],
   "source": [
    "# 4. Convierte la lista `talla` a una tupla.\n",
    "talla = tuple(talla)\n",
    "talla"
   ]
  },
  {
   "cell_type": "code",
   "execution_count": null,
   "id": "3445343e",
   "metadata": {},
   "outputs": [
    {
     "name": "stdout",
     "output_type": "stream",
     "text": [
      "(61, 1.54, 'pelo marron', 'M', 42, 39) --> \"+\": elementos independientes\n",
      "((61, 1.54, 'pelo marron'), ('M', 42, 39)) --> \",\": conjunto de grupos\n"
     ]
    }
   ],
   "source": [
    "# 5. Une a la tupla de `persona1` los datos en `talla`.\n",
    "lista_pt = persona1 + talla # te lo añade independiente\n",
    "lista_pt_tuplas = persona1, talla\n",
    "print(lista_pt, '--> \"+\": elementos independientes')\n",
    "print(lista_pt_tuplas, '--> \",\": conjunto de grupos')"
   ]
  },
  {
   "cell_type": "code",
   "execution_count": null,
   "id": "93b56e72",
   "metadata": {},
   "outputs": [
    {
     "data": {
      "text/plain": [
       "'pelo rubio'"
      ]
     },
     "execution_count": 13,
     "metadata": {},
     "output_type": "execute_result"
    }
   ],
   "source": [
    "# 6. Saca de `persona2` el contenido del tercer elemento y llámalo `color`.\n",
    "color = persona2[2]\n",
    "color"
   ]
  },
  {
   "cell_type": "code",
   "execution_count": null,
   "id": "70036404",
   "metadata": {},
   "outputs": [
    {
     "data": {
      "text/plain": [
       "3"
      ]
     },
     "execution_count": 14,
     "metadata": {},
     "output_type": "execute_result"
    }
   ],
   "source": [
    "# 7. ¿Cuántos elementos hay ahora en `persona2`? (Es decir, ¿cuál es su longitud?)\n",
    "len(persona2)"
   ]
  },
  {
   "cell_type": "markdown",
   "id": "e7f981b6",
   "metadata": {},
   "source": [
    "--> DESEMBALAMOS tuplas:"
   ]
  },
  {
   "cell_type": "code",
   "execution_count": 56,
   "id": "8e8ad726",
   "metadata": {},
   "outputs": [
    {
     "name": "stdout",
     "output_type": "stream",
     "text": [
      "(61, 1.54, 'pelo marron')\n",
      "peso: 61\n",
      "altura: 1.54\n",
      "color_pelo: pelo marron\n"
     ]
    }
   ],
   "source": [
    "# 8. Crea las variables `peso`, `altura`, `color`, `camiseta`, `pantalon`, y `zapatos` \n",
    "# llénalas con el contenido de `persona1`. Imprime `camiseta` para comprobar el resultado.\n",
    "print(persona1)\n",
    "peso, altura, color_pelo = persona1\n",
    "print('peso:', peso)\n",
    "print('altura:', altura)\n",
    "print('color_pelo:', color_pelo)\n"
   ]
  },
  {
   "cell_type": "code",
   "execution_count": 57,
   "id": "ae07e096",
   "metadata": {},
   "outputs": [
    {
     "data": {
      "text/plain": [
       "(61, 1.54, 'pelo marron')"
      ]
     },
     "execution_count": 57,
     "metadata": {},
     "output_type": "execute_result"
    }
   ],
   "source": [
    "# 11. Crea una tupla `etiquetas` con `'peso'`, `'altura'`, y `'color'`.\n",
    "etiquetas = peso, altura, color_pelo\n",
    "etiquetas"
   ]
  },
  {
   "cell_type": "markdown",
   "id": "11681c68",
   "metadata": {},
   "source": [
    "### Funcion ZIP"
   ]
  },
  {
   "cell_type": "code",
   "execution_count": 52,
   "id": "24ea34e2",
   "metadata": {},
   "outputs": [
    {
     "name": "stdout",
     "output_type": "stream",
     "text": [
      "(61, 1.54, 'pelo marron')\n",
      "(68, 1.65, 'pelo rubio')\n",
      "...................\n",
      "[(61, 68), (1.54, 1.65), ('pelo marron', 'pelo rubio')]\n"
     ]
    }
   ],
   "source": [
    "# 9. Crea el zip `personas` con `persona1` y `persona2`.    --> crea PAREJAS\n",
    "personas = list(zip(persona1, persona2))\n",
    "print(persona1)\n",
    "print(persona2)\n",
    "print('...................')\n",
    "print(personas)"
   ]
  },
  {
   "cell_type": "code",
   "execution_count": null,
   "id": "25459169",
   "metadata": {},
   "outputs": [
    {
     "data": {
      "text/plain": [
       "3"
      ]
     },
     "execution_count": 53,
     "metadata": {},
     "output_type": "execute_result"
    }
   ],
   "source": [
    "# 10. ¿Cuántas \"elementos\" tiene `personas`? ¿Por qué? --> lista de 3 tuplas\n",
    "len(personas)"
   ]
  },
  {
   "cell_type": "code",
   "execution_count": 59,
   "id": "cc980762",
   "metadata": {},
   "outputs": [
    {
     "data": {
      "text/plain": [
       "[(61, 61, 68),\n",
       " (1.54, 1.54, 1.65),\n",
       " ('pelo marron', 'pelo marron', 'pelo rubio')]"
      ]
     },
     "execution_count": 59,
     "metadata": {},
     "output_type": "execute_result"
    }
   ],
   "source": [
    "# 12. Crea al zip de `etiquetas`, `persona1`, y `persona2`.    --> crea PAREJAS\n",
    "todo = list(zip(etiquetas, persona1, persona2))\n",
    "todo"
   ]
  },
  {
   "cell_type": "markdown",
   "id": "2980f27b",
   "metadata": {},
   "source": [
    "\n",
    "\n",
    "1. Ejercicio: Acceder al primer elemento de una tupla\n",
    "   - Descripción: Dada una tupla, obtén el primer elemento.\n"
   ]
  },
  {
   "cell_type": "code",
   "execution_count": null,
   "id": "239fa548",
   "metadata": {},
   "outputs": [
    {
     "name": "stdout",
     "output_type": "stream",
     "text": [
      "10\n"
     ]
    }
   ],
   "source": [
    "tupla = (10, 20, 30)\n",
    "primer_elemento = tupla[0]\n",
    "print(primer_elemento)"
   ]
  },
  {
   "cell_type": "markdown",
   "id": "5dc69e3e",
   "metadata": {},
   "source": [
    "\n",
    "2. Ejercicio: Acceder al último elemento de una tupla\n",
    "   - Descripción: Dada una tupla, obtén el último elemento."
   ]
  },
  {
   "cell_type": "code",
   "execution_count": null,
   "id": "b38e8b6d",
   "metadata": {},
   "outputs": [
    {
     "name": "stdout",
     "output_type": "stream",
     "text": [
      "Cereza\n"
     ]
    }
   ],
   "source": [
    "tupla = (\"Manzana\", \"Banana\", \"Cereza\")\n",
    "ultimo_elemento = tupla[-1]\n",
    "print(ultimo_elemento)"
   ]
  },
  {
   "cell_type": "markdown",
   "id": "6b0652c0",
   "metadata": {},
   "source": [
    "\n",
    "3. Ejercicio: Obtener la longitud de una tupla\n",
    "   - Descripción: Dada una tupla, obtén la cantidad de elementos que contiene."
   ]
  },
  {
   "cell_type": "code",
   "execution_count": null,
   "id": "6b81e694",
   "metadata": {},
   "outputs": [
    {
     "name": "stdout",
     "output_type": "stream",
     "text": [
      "5\n"
     ]
    }
   ],
   "source": [
    "tupla = (1, 2, 3, 4, 5)\n",
    "longitud = len(tupla)\n",
    "print(longitud)"
   ]
  },
  {
   "cell_type": "markdown",
   "id": "8adcfa2f",
   "metadata": {},
   "source": [
    "\n",
    "5. Ejercicio: Encontrar el índice de un elemento en una tupla\n",
    "   - Descripción: Dada una tupla y un valor objetivo, encuentra el índice del primer elemento que coincida con el valor objetivo.\n"
   ]
  },
  {
   "cell_type": "code",
   "execution_count": null,
   "id": "63c265d8",
   "metadata": {},
   "outputs": [
    {
     "name": "stdout",
     "output_type": "stream",
     "text": [
      "2\n"
     ]
    }
   ],
   "source": [
    "tupla = (10, 20, 30, 40, 50)\n",
    "objetivo = 30\n",
    "indice = tupla.index(objetivo)\n",
    "print(indice)"
   ]
  },
  {
   "cell_type": "markdown",
   "id": "3833c963",
   "metadata": {},
   "source": [
    "6. Ejercicio: Contar ocurrencias de un elemento en una tupla\n",
    "   - Descripción: Dada una tupla y un valor objetivo, cuenta cuántas veces aparece el valor objetivo en la tupla."
   ]
  },
  {
   "cell_type": "code",
   "execution_count": null,
   "id": "87018344",
   "metadata": {},
   "outputs": [
    {
     "name": "stdout",
     "output_type": "stream",
     "text": [
      "4\n"
     ]
    }
   ],
   "source": [
    "tupla = (1, 2, 2, 3, 2, 4, 2)\n",
    "objetivo = 2\n",
    "contador = tupla.count(objetivo)\n",
    "print(contador)"
   ]
  },
  {
   "cell_type": "markdown",
   "id": "f696b305",
   "metadata": {},
   "source": [
    "7. Ejercicio: Obtener una subtuple de una tupla\n",
    "   - Descripción: Dada una tupla, crea una nueva tupla que contenga los elementos desde el índice 1 hasta el índice 3 (sin incluirlo).\n"
   ]
  },
  {
   "cell_type": "code",
   "execution_count": null,
   "id": "88d9a121",
   "metadata": {},
   "outputs": [
    {
     "name": "stdout",
     "output_type": "stream",
     "text": [
      "(2, 3)\n"
     ]
    }
   ],
   "source": [
    "tupla = (1, 2, 3, 4, 5)\n",
    "subtuple = tupla[1:3]\n",
    "print(subtuple)"
   ]
  },
  {
   "cell_type": "markdown",
   "id": "e109308a",
   "metadata": {},
   "source": [
    "\n",
    "8. Ejercicio: Invertir una tupla\n",
    "    - Descripción: Dada una tupla, inviértela en orden.\n"
   ]
  },
  {
   "cell_type": "code",
   "execution_count": null,
   "id": "f06054ea",
   "metadata": {},
   "outputs": [
    {
     "name": "stdout",
     "output_type": "stream",
     "text": [
      "(5, 4, 3, 2, 1)\n"
     ]
    }
   ],
   "source": [
    "tupla = (1, 2, 3, 4, 5)\n",
    "tupla_invertida = tupla[::-1]\n",
    "print(tupla_invertida)"
   ]
  },
  {
   "cell_type": "markdown",
   "id": "8d2f4ac4",
   "metadata": {},
   "source": [
    "## DICCIONARIOS"
   ]
  },
  {
   "cell_type": "markdown",
   "id": "a4394809",
   "metadata": {},
   "source": [
    "Definir diccionarios\n",
    "\n",
    "1. Crea el diccionario festivos con las fechas como claves y los nombres como valores: (...)\n",
    "2. Crea el diccionario monarcas con los países como claves y los nombres como valores: (...)"
   ]
  },
  {
   "cell_type": "code",
   "execution_count": 99,
   "id": "57d1372e",
   "metadata": {},
   "outputs": [],
   "source": [
    "festivos = {'01/01':'Año Nuevo', \n",
    "            '06/01': 'Epifanía del Señor', \n",
    "            '15/04': 'Viernes Santo', \n",
    "            '15/08': 'Asunción de la Virgen',\n",
    "            '12/10': 'Fiesta Nacional de España',\n",
    "            '01/11': 'Todos los Santos',\n",
    "            '06/12': 'Día de la Constitución Española',\n",
    "            '08/12': 'Inmaculada Concepción'}\n",
    "monarcas = {'Bélgica': 'Philippe', 'Dinamarca': 'Margrethe II', 'Holanda': 'Beatrix', \n",
    "            'Noruega': 'Harald V', 'España': 'Felipe VI', 'Reino Unido': 'Carlos III'}"
   ]
  },
  {
   "cell_type": "markdown",
   "id": "f91a4606",
   "metadata": {},
   "source": [
    "Leer, añadir, y cambiar elementos\n",
    "\n",
    "3. ¿Qué festivo hay el 15/04?\n",
    "4. La reina 'Beatrix' abdicó, ahora es el rey 'Willem-Alexander'. Actualiza el dict.\n",
    "5. El rey de Luxemburgo se llama Henri. Añadelo al dict usando .update()."
   ]
  },
  {
   "cell_type": "code",
   "execution_count": 62,
   "id": "f8504a29",
   "metadata": {},
   "outputs": [
    {
     "name": "stdout",
     "output_type": "stream",
     "text": [
      "Festivo del día 15 de abril: Viernes Santo\n"
     ]
    }
   ],
   "source": [
    "print(f'Festivo del día 15 de abril: {festivos['15/04']}')"
   ]
  },
  {
   "cell_type": "code",
   "execution_count": 64,
   "id": "adcd41cd",
   "metadata": {},
   "outputs": [
    {
     "data": {
      "text/plain": [
       "{'Bélgica': 'Philippe',\n",
       " 'Dinamarca': 'Margrethe II',\n",
       " 'Holanda': 'Willem-Alexander',\n",
       " 'Noruega': 'Harald V',\n",
       " 'España': 'Felipe VI',\n",
       " 'Reino Unido': 'Carlos III'}"
      ]
     },
     "execution_count": 64,
     "metadata": {},
     "output_type": "execute_result"
    }
   ],
   "source": [
    "monarcas['Holanda'] = 'Willem-Alexander'\n",
    "monarcas"
   ]
  },
  {
   "cell_type": "code",
   "execution_count": 65,
   "id": "a09c5f00",
   "metadata": {},
   "outputs": [
    {
     "data": {
      "text/plain": [
       "{'Bélgica': 'Philippe',\n",
       " 'Dinamarca': 'Margrethe II',\n",
       " 'Holanda': 'Willem-Alexander',\n",
       " 'Noruega': 'Harald V',\n",
       " 'España': 'Felipe VI',\n",
       " 'Reino Unido': 'Carlos III',\n",
       " 'Luxemburgo': 'Henri'}"
      ]
     },
     "execution_count": 65,
     "metadata": {},
     "output_type": "execute_result"
    }
   ],
   "source": [
    "monarcas['Luxemburgo']= 'Henri'\n",
    "monarcas"
   ]
  },
  {
   "cell_type": "markdown",
   "id": "65faf5ce",
   "metadata": {},
   "source": [
    "Obtener valores\n",
    "\n",
    "17. ¿Qué festivo hay el 06/01?\n",
    "18. Obten el festivo que haya el 08/03, y en su defecto devuélve 'Día Internacional de la Mujer'.\n",
    "19. Obten el festivo que haya el 31/11, y si no existe crea un par de clave-valor nuevo con el valor de 'Todos los Santos'."
   ]
  },
  {
   "cell_type": "code",
   "execution_count": 95,
   "id": "7af42206",
   "metadata": {},
   "outputs": [
    {
     "name": "stdout",
     "output_type": "stream",
     "text": [
      "Festivo 6 de enero:  Epifanía del Señor\n",
      "Festivo 8 de marzo:  No existe en el calendario: Día Internacional de la Mujer\n"
     ]
    }
   ],
   "source": [
    "festivo_0601 = festivos['06/01']\n",
    "print('Festivo 6 de enero: ', festivo_0601)\n",
    "festivo_0803 = festivos.get('08/03', \"No existe en el calendario: Día Internacional de la Mujer\")\n",
    "print('Festivo 8 de marzo: ', festivo_0803 )"
   ]
  },
  {
   "cell_type": "code",
   "execution_count": 101,
   "id": "9221991e",
   "metadata": {},
   "outputs": [
    {
     "data": {
      "text/plain": [
       "{'01/01': 'Año Nuevo',\n",
       " '06/01': 'Epifanía del Señor',\n",
       " '15/04': 'Viernes Santo',\n",
       " '15/08': 'Asunción de la Virgen',\n",
       " '12/10': 'Fiesta Nacional de España',\n",
       " '01/11': 'Todos los Santos',\n",
       " '06/12': 'Día de la Constitución Española',\n",
       " '08/12': 'Inmaculada Concepción',\n",
       " '31/11': 'Todos los Santos'}"
      ]
     },
     "execution_count": 101,
     "metadata": {},
     "output_type": "execute_result"
    }
   ],
   "source": [
    "festivo_3111 = festivos.setdefault('31/11', 'Todos los Santos') \n",
    "# festivo_311 --> te dice que no está definido ERROR\n",
    "festivos"
   ]
  },
  {
   "cell_type": "code",
   "execution_count": 103,
   "id": "da2e18f6",
   "metadata": {},
   "outputs": [
    {
     "data": {
      "text/plain": [
       "'Todos los Santos'"
      ]
     },
     "execution_count": 103,
     "metadata": {},
     "output_type": "execute_result"
    }
   ],
   "source": [
    "festivo_3111 = festivos.setdefault('31/11', 'Pepito Grillo') \n",
    "festivo_3111\n",
    "# ya está definido, el resultado es el value"
   ]
  },
  {
   "cell_type": "markdown",
   "id": "20a796ca",
   "metadata": {},
   "source": [
    "Comprobar contenidos\n",
    "\n",
    "6. ¿Cuántos países están definidos en monarcas?\n",
    "7. ¿Es 'Monaco' uno de ellos? // Mirar si Henri está en el dict\n",
    "8. ¿Es verdad que nos olvidamos de poner 'Suecia'? Compruébalo de una manera en que obtengas un True o False."
   ]
  },
  {
   "cell_type": "code",
   "execution_count": 66,
   "id": "c6e963ab",
   "metadata": {},
   "outputs": [
    {
     "data": {
      "text/plain": [
       "7"
      ]
     },
     "execution_count": 66,
     "metadata": {},
     "output_type": "execute_result"
    }
   ],
   "source": [
    "len(monarcas)"
   ]
  },
  {
   "cell_type": "code",
   "execution_count": 67,
   "id": "82b57502",
   "metadata": {},
   "outputs": [
    {
     "data": {
      "text/plain": [
       "False"
      ]
     },
     "execution_count": 67,
     "metadata": {},
     "output_type": "execute_result"
    }
   ],
   "source": [
    "'Monaco' in monarcas"
   ]
  },
  {
   "cell_type": "code",
   "execution_count": 68,
   "id": "ece74e1b",
   "metadata": {},
   "outputs": [
    {
     "data": {
      "text/plain": [
       "True"
      ]
     },
     "execution_count": 68,
     "metadata": {},
     "output_type": "execute_result"
    }
   ],
   "source": [
    "# si fuera un value:\n",
    "'Henri' in monarcas.values()"
   ]
  },
  {
   "cell_type": "code",
   "execution_count": 69,
   "id": "17e8d908",
   "metadata": {},
   "outputs": [
    {
     "data": {
      "text/plain": [
       "True"
      ]
     },
     "execution_count": 69,
     "metadata": {},
     "output_type": "execute_result"
    }
   ],
   "source": [
    "# Es verdad? suecia NO esta, debemos obtener un True\n",
    "'Suecia' not in monarcas"
   ]
  },
  {
   "cell_type": "markdown",
   "id": "0aaace0e",
   "metadata": {},
   "source": [
    "Listar los contenidos\n",
    "\n",
    "9. Saca una lista de todos los países en el dict monarcas.\n",
    "10. Saca una lista de los nombres de los festivos.  \n",
    "11. Imprime el diccionario de festivos.\n",
    "12. Imprime una lista de tuplas de todos los elementos que hay en festivos"
   ]
  },
  {
   "cell_type": "code",
   "execution_count": 73,
   "id": "ced92a3c",
   "metadata": {},
   "outputs": [
    {
     "data": {
      "text/plain": [
       "['Bélgica',\n",
       " 'Dinamarca',\n",
       " 'Holanda',\n",
       " 'Noruega',\n",
       " 'España',\n",
       " 'Reino Unido',\n",
       " 'Luxemburgo']"
      ]
     },
     "execution_count": 73,
     "metadata": {},
     "output_type": "execute_result"
    }
   ],
   "source": [
    "paises = list(monarcas.keys())\n",
    "paises"
   ]
  },
  {
   "cell_type": "code",
   "execution_count": 74,
   "id": "a458daa4",
   "metadata": {},
   "outputs": [
    {
     "data": {
      "text/plain": [
       "['Año Nuevo',\n",
       " 'Epifanía del Señor',\n",
       " 'Viernes Santo',\n",
       " 'Asunción de la Virgen',\n",
       " 'Fiesta Nacional de España',\n",
       " 'Todos los Santos',\n",
       " 'Día de la Constitución Española',\n",
       " 'Inmaculada Concepción']"
      ]
     },
     "execution_count": 74,
     "metadata": {},
     "output_type": "execute_result"
    }
   ],
   "source": [
    "nombres_festivos = list(festivos.values())\n",
    "nombres_festivos"
   ]
  },
  {
   "cell_type": "code",
   "execution_count": 80,
   "id": "8d2670d6",
   "metadata": {},
   "outputs": [
    {
     "data": {
      "text/plain": [
       "[('01/01', 'Año Nuevo'),\n",
       " ('06/01', 'Epifanía del Señor'),\n",
       " ('15/04', 'Viernes Santo'),\n",
       " ('15/08', 'Asunción de la Virgen'),\n",
       " ('12/10', 'Fiesta Nacional de España'),\n",
       " ('01/11', 'Todos los Santos'),\n",
       " ('06/12', 'Día de la Constitución Española'),\n",
       " ('08/12', 'Inmaculada Concepción')]"
      ]
     },
     "execution_count": 80,
     "metadata": {},
     "output_type": "execute_result"
    }
   ],
   "source": [
    "# lista de tuplas --> elementos 'festivos'\n",
    "zip_festivos = list(zip(festivos.keys(), festivos.values())) # ó zip(festivos.items()) directamente\n",
    "zip_festivos"
   ]
  },
  {
   "cell_type": "markdown",
   "id": "0ef9be9a",
   "metadata": {},
   "source": [
    "Copiar dicts, y borrar elementos\n",
    "\n",
    "13. Copia monarcas a monarcas2010.\n",
    "14. Quita España de monarcas2010.\n",
    "15. Quita el último elemento de monarcas2010."
   ]
  },
  {
   "cell_type": "code",
   "execution_count": 81,
   "id": "9d1a77d1",
   "metadata": {},
   "outputs": [
    {
     "data": {
      "text/plain": [
       "{'Bélgica': 'Philippe',\n",
       " 'Dinamarca': 'Margrethe II',\n",
       " 'Holanda': 'Willem-Alexander',\n",
       " 'Noruega': 'Harald V',\n",
       " 'España': 'Felipe VI',\n",
       " 'Reino Unido': 'Carlos III',\n",
       " 'Luxemburgo': 'Henri'}"
      ]
     },
     "execution_count": 81,
     "metadata": {},
     "output_type": "execute_result"
    }
   ],
   "source": [
    "monarcas2010 = monarcas.copy()\n",
    "monarcas2010"
   ]
  },
  {
   "cell_type": "code",
   "execution_count": 82,
   "id": "56b180e3",
   "metadata": {},
   "outputs": [
    {
     "data": {
      "text/plain": [
       "'Felipe VI'"
      ]
     },
     "execution_count": 82,
     "metadata": {},
     "output_type": "execute_result"
    }
   ],
   "source": [
    "monarcas2010.pop('España')"
   ]
  },
  {
   "cell_type": "code",
   "execution_count": 83,
   "id": "6a7cf239",
   "metadata": {},
   "outputs": [
    {
     "data": {
      "text/plain": [
       "{'Bélgica': 'Philippe',\n",
       " 'Dinamarca': 'Margrethe II',\n",
       " 'Holanda': 'Willem-Alexander',\n",
       " 'Noruega': 'Harald V',\n",
       " 'Reino Unido': 'Carlos III',\n",
       " 'Luxemburgo': 'Henri'}"
      ]
     },
     "execution_count": 83,
     "metadata": {},
     "output_type": "execute_result"
    }
   ],
   "source": [
    "monarcas2010"
   ]
  },
  {
   "cell_type": "code",
   "execution_count": 84,
   "id": "9480030e",
   "metadata": {},
   "outputs": [
    {
     "data": {
      "text/plain": [
       "('Luxemburgo', 'Henri')"
      ]
     },
     "execution_count": 84,
     "metadata": {},
     "output_type": "execute_result"
    }
   ],
   "source": [
    "monarcas2010.popitem()"
   ]
  },
  {
   "cell_type": "code",
   "execution_count": 85,
   "id": "ac2d5c5b",
   "metadata": {},
   "outputs": [
    {
     "data": {
      "text/plain": [
       "{'Bélgica': 'Philippe',\n",
       " 'Dinamarca': 'Margrethe II',\n",
       " 'Holanda': 'Willem-Alexander',\n",
       " 'Noruega': 'Harald V',\n",
       " 'Reino Unido': 'Carlos III'}"
      ]
     },
     "execution_count": 85,
     "metadata": {},
     "output_type": "execute_result"
    }
   ],
   "source": [
    "monarcas2010"
   ]
  },
  {
   "cell_type": "markdown",
   "id": "5c6bb87f",
   "metadata": {},
   "source": [
    "Vaciar y borrar dicts\n",
    "\n",
    "16. Vacia el dict monarcas2010."
   ]
  },
  {
   "cell_type": "code",
   "execution_count": 86,
   "id": "52a3a3cf",
   "metadata": {},
   "outputs": [],
   "source": [
    "monarcas2010.clear()"
   ]
  },
  {
   "cell_type": "code",
   "execution_count": 87,
   "id": "ac71b635",
   "metadata": {},
   "outputs": [
    {
     "data": {
      "text/plain": [
       "{}"
      ]
     },
     "execution_count": 87,
     "metadata": {},
     "output_type": "execute_result"
    }
   ],
   "source": [
    "monarcas2010"
   ]
  },
  {
   "cell_type": "code",
   "execution_count": null,
   "id": "2d6febe3",
   "metadata": {},
   "outputs": [],
   "source": []
  }
 ],
 "metadata": {
  "kernelspec": {
   "display_name": "base",
   "language": "python",
   "name": "python3"
  },
  "language_info": {
   "codemirror_mode": {
    "name": "ipython",
    "version": 3
   },
   "file_extension": ".py",
   "mimetype": "text/x-python",
   "name": "python",
   "nbconvert_exporter": "python",
   "pygments_lexer": "ipython3",
   "version": "3.12.3"
  }
 },
 "nbformat": 4,
 "nbformat_minor": 5
}
