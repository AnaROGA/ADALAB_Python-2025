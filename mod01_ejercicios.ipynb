{
 "cells": [
  {
   "cell_type": "markdown",
   "id": "b8426925",
   "metadata": {},
   "source": [
    "## INDICE\n",
    "- [Variables](#variables)\n",
    "- [Listas](#listas)\n",
    "- [Tuplas](#tuplas)  \n",
    "    - [Función ZIP](#funcion-zip)\n",
    "- [Diccionarios](#diccionarios)\n",
    "- [Sets](#sets)  \n",
    "    - [Operaciones de Conjuntos](#operaciones-de-conjuntos)\n",
    "- [if: estructuras de selección](#if-estructuras-de-selección)  \n",
    "- [for: estructura de iteración, loops](#for-estructura-de-iteración-loops)  \n",
    "    - [range](#range)\n",
    "    - [Comprehension Lists](#comprehension-lists)  \n",
    "\n",
    "- [while: estructuras de iteración, loops](#while-estructura-de-iteración-loops)  \n",
    "- [try/except: estructuras de control en bucles](#tryexcept-estructura-de-control-en-bucles)"
   ]
  },
  {
   "cell_type": "markdown",
   "id": "dda2a6bb",
   "metadata": {},
   "source": [
    "## VARIABLES   "
   ]
  },
  {
   "cell_type": "markdown",
   "id": "ad15bb77",
   "metadata": {},
   "source": [
    "## LISTAS"
   ]
  },
  {
   "cell_type": "code",
   "execution_count": 290,
   "id": "d77a1cb4",
   "metadata": {},
   "outputs": [],
   "source": [
    "# 1 Haz una lista llamada colores donde almacenemos los primeros 6 colores que te vengan a la mente.\n",
    "colores = ['azul', 'verde', 'amarillo', 'negro', 'violeta', 'blanco']\n",
    "# 2. Haz una lista llamada buses de las líneas de autobuses que pasan por tu casa.\n",
    "buses = ['H10', 'V27', '47']\n",
    "# 3. Apunta la previsión de temperaturas máximas para todos los días de esta semana en temperaturas.\n",
    "temperaturas = [28, 28, 30, 29, 29, 30, 31]"
   ]
  },
  {
   "cell_type": "code",
   "execution_count": 291,
   "id": "ee7f95fc",
   "metadata": {},
   "outputs": [
    {
     "name": "stdout",
     "output_type": "stream",
     "text": [
      "['A', 'n', 'a', ' ', 'M', 'a', 'r', 'í', 'a']\n",
      "['R', 'o', 'b', 'l', 'e', 's', ' ', 'G', 'a', 'r', 'c', 'í', 'a']\n"
     ]
    }
   ],
   "source": [
    "# 4. Convierte tu(s) nombre(s) a una lista nombres de caracteres.\n",
    "nombre = 'Ana María'\n",
    "lista_nombre = list(nombre)\n",
    "print(lista_nombre)\n",
    "# 5. Convierte tu(s) apellido(s) a una lista apellidos de caracteres.\n",
    "apellidos = 'Robles García'\n",
    "lista_apellidos = list(apellidos)\n",
    "print(lista_apellidos)"
   ]
  },
  {
   "cell_type": "code",
   "execution_count": 292,
   "id": "113395b0",
   "metadata": {},
   "outputs": [
    {
     "data": {
      "text/plain": [
       "3"
      ]
     },
     "execution_count": 292,
     "metadata": {},
     "output_type": "execute_result"
    }
   ],
   "source": [
    "# 6. ¿Cuántos búses pasan por tu casa?\n",
    "len(buses)"
   ]
  },
  {
   "cell_type": "code",
   "execution_count": 293,
   "id": "0e5000ad",
   "metadata": {},
   "outputs": [
    {
     "data": {
      "text/plain": [
       "13"
      ]
     },
     "execution_count": 293,
     "metadata": {},
     "output_type": "execute_result"
    }
   ],
   "source": [
    "# 7. ¿Cuántos caracteres hay en tu apellido(s) (inluyendo los espacios)?\n",
    "len(lista_apellidos)"
   ]
  },
  {
   "cell_type": "code",
   "execution_count": 294,
   "id": "6af5814f",
   "metadata": {},
   "outputs": [
    {
     "name": "stdout",
     "output_type": "stream",
     "text": [
      "Temperaturas: \n",
      " Máxima: 31 \n",
      " Mínima: 28\n"
     ]
    }
   ],
   "source": [
    "# 8. ¿Cuáles son las temperaturas máximas (t_max) y mínimas (t_min) para esta semana?\n",
    "t_max = max(temperaturas)\n",
    "t_min = min(temperaturas)\n",
    "print(f'Temperaturas: \\n Máxima: {t_max} \\n Mínima: {t_min}')"
   ]
  },
  {
   "cell_type": "code",
   "execution_count": 295,
   "id": "14a3ab87",
   "metadata": {},
   "outputs": [
    {
     "name": "stdout",
     "output_type": "stream",
     "text": [
      "Hay \"e\" en mi nombre: False\n",
      "Está el color ROSA en la lista: False\n",
      "No hay \"x\" en mi nombre: True\n"
     ]
    }
   ],
   "source": [
    "# 9. Hay una 'e' en tu nombre?\n",
    "print('Hay \"e\" en mi nombre:', 'e' in lista_nombre)\n",
    "# 10. Tienes el color 'rosa' en la lista de colores?\n",
    "print('Está el color ROSA en la lista:', 'rosa' in colores)\n",
    "# 11. ¿Tiene una 'x' tu nombre? (Usa not in)\n",
    "print('No hay \"x\" en mi nombre:', 'x' not in lista_nombre)"
   ]
  },
  {
   "cell_type": "code",
   "execution_count": 296,
   "id": "957d36c4",
   "metadata": {},
   "outputs": [],
   "source": [
    "# 12. Copia el contenido de temperaturas a temperaturas2, y temperaturas3.\n",
    "temperaturas2 = temperaturas.copy()\n",
    "temperaturas3 = temperaturas.copy()"
   ]
  },
  {
   "cell_type": "code",
   "execution_count": 297,
   "id": "3c0aa07b",
   "metadata": {},
   "outputs": [
    {
     "name": "stdout",
     "output_type": "stream",
     "text": [
      "[28, 28, 30, 29, 29, 30, 31]\n",
      "[]\n"
     ]
    }
   ],
   "source": [
    "# 13. Vacía el contenido de la variable temperaturas2\n",
    "temperaturas2.clear()\n",
    "# 14. Imprime el contenido de temperaturas y temperaturas2.\n",
    "print(temperaturas)\n",
    "print(temperaturas2)"
   ]
  },
  {
   "cell_type": "code",
   "execution_count": 298,
   "id": "29a1063b",
   "metadata": {},
   "outputs": [],
   "source": [
    "# 15. Copia el contenido de nombres a nombres2.\n",
    "nombres2 = lista_nombre.copy()\n",
    "# 16. Copia el contenido de apellidos a apellidos2.\n",
    "apellidos2 = lista_apellidos.copy()"
   ]
  },
  {
   "cell_type": "code",
   "execution_count": 299,
   "id": "723e3082",
   "metadata": {},
   "outputs": [
    {
     "data": {
      "text/plain": [
       "[31, 30, 30, 29, 29, 28, 28]"
      ]
     },
     "execution_count": 299,
     "metadata": {},
     "output_type": "execute_result"
    }
   ],
   "source": [
    "# 17. Ordena la variable temperaturas3 de mayor a menor.\n",
    "temperaturas3.sort(reverse = True)\n",
    "temperaturas3"
   ]
  },
  {
   "cell_type": "code",
   "execution_count": 300,
   "id": "633a1503",
   "metadata": {},
   "outputs": [
    {
     "name": "stdout",
     "output_type": "stream",
     "text": [
      "[' ', 'A', 'M', 'a', 'a', 'a', 'n', 'r', 'í'] --> orden alfabético, SÍ distingue entre M de m\n",
      "[' ', 'G', 'R', 'a', 'a', 'b', 'c', 'e', 'l', 'o', 'r', 's', 'í']\n",
      "--> orden alfabético, SÍ distingue entre M de m\n"
     ]
    }
   ],
   "source": [
    "# 18. Ordena los caracteres de tu nombre y tu apellido en las listas nombres2 y apellidos2. \n",
    "# Imprime el resultado y investiga: ¿qué orden ha cogido? ¿Cómo trata las mayúsculas?\n",
    "nombres2.sort()\n",
    "apellidos2.sort()\n",
    "print(nombres2, '--> orden alfabético, SÍ distingue entre M de m')\n",
    "print(apellidos2)\n",
    "print('--> orden alfabético, SÍ distingue entre M de m')"
   ]
  },
  {
   "cell_type": "code",
   "execution_count": 301,
   "id": "36308b5a",
   "metadata": {},
   "outputs": [
    {
     "name": "stdout",
     "output_type": "stream",
     "text": [
      "Num \"a\" : 4. \n",
      "Num \"o\" : 0. \n"
     ]
    }
   ],
   "source": [
    "# 19. ¿Cuántas 'a' tiene tu nombre? ¿Y cuántas 'o'?\n",
    "num_a_nombre = nombres2.count('a') + nombres2.count('A')\n",
    "num_o_nombre = nombres2.count('o') + nombres2.count('O')\n",
    "print(f'Num \"a\" : {num_a_nombre}. \\nNum \"o\" : {num_o_nombre}. ')"
   ]
  },
  {
   "cell_type": "code",
   "execution_count": 302,
   "id": "126958ea",
   "metadata": {},
   "outputs": [
    {
     "name": "stdout",
     "output_type": "stream",
     "text": [
      "True\n",
      "True\n"
     ]
    }
   ],
   "source": [
    "# 20. Verifica si los resultados de ejercicio 19 son iguales para la lista nombres2.\n",
    "num_a_nombre_lista = lista_nombre.count('a') + lista_nombre.count('A')\n",
    "num_o_nombre_lista = lista_nombre.count('o') + lista_nombre.count('O')\n",
    "print(num_a_nombre == num_a_nombre_lista)\n",
    "print(num_o_nombre == num_o_nombre_lista)"
   ]
  },
  {
   "cell_type": "code",
   "execution_count": 303,
   "id": "c8a1545c",
   "metadata": {},
   "outputs": [
    {
     "name": "stdout",
     "output_type": "stream",
     "text": [
      "T máxima: 1 veces. \n",
      "T mínima: 2 veces.\n"
     ]
    }
   ],
   "source": [
    "# 21. ¿Cuántas veces esta semana llega la temperatura a la t_max? ¿Y cuántas a la t_min?\n",
    "veces_tmax = temperaturas.count(t_max)\n",
    "veces_tmin = temperaturas.count(t_min)\n",
    "print(f'T máxima: {veces_tmax} veces. \\nT mínima: {veces_tmin} veces.')"
   ]
  },
  {
   "cell_type": "code",
   "execution_count": 304,
   "id": "c7c9ab3d",
   "metadata": {},
   "outputs": [],
   "source": [
    "# 22. La lista dias_en contiene 'monday', 'tuesday', 'wednesday', 'thursday', 'friday', 'saturday', y 'sunday'.\n",
    "dias_en = ['monday', 'tuesday', 'wednesday', 'thursday', 'friday', 'saturday', 'sunday']\n",
    "# 23\n",
    "temperaturas_diciembre = [10, 10, 13, 14, 12, 15, \n",
    "                        12, 11, 13, 17, 18, 15, \n",
    "                        15, 17, 17, 13, 13, 11,\n",
    "                        12, 10, 12, 14, 12, 12,\n",
    "                        11, 12, 16, 16, 14, 17, 18]\n"
   ]
  },
  {
   "cell_type": "code",
   "execution_count": 305,
   "id": "f7b115d7",
   "metadata": {},
   "outputs": [
    {
     "data": {
      "text/plain": [
       "'saturday'"
      ]
     },
     "execution_count": 305,
     "metadata": {},
     "output_type": "execute_result"
    }
   ],
   "source": [
    "# 24. ¿Cuál es el penúltimo día de la semana?\n",
    "dias_en[5] # ó [-2]"
   ]
  },
  {
   "cell_type": "code",
   "execution_count": 306,
   "id": "25303c61",
   "metadata": {},
   "outputs": [
    {
     "data": {
      "text/plain": [
       "18"
      ]
     },
     "execution_count": 306,
     "metadata": {},
     "output_type": "execute_result"
    }
   ],
   "source": [
    "# 25. ¿Cuál es el último elemento de la lista de temperaturas de diciembre?\n",
    "temperaturas_diciembre[-1]"
   ]
  },
  {
   "cell_type": "code",
   "execution_count": 307,
   "id": "fc6dc257",
   "metadata": {},
   "outputs": [
    {
     "name": "stdout",
     "output_type": "stream",
     "text": [
      "True\n",
      "4\n"
     ]
    }
   ],
   "source": [
    "# 26. ¿Está 'friday' en la lista de días en inglés? Si está, ¿dónde?\n",
    "print('friday' in dias_en)\n",
    "print(dias_en.index('friday'))"
   ]
  },
  {
   "cell_type": "code",
   "execution_count": 308,
   "id": "324840d7",
   "metadata": {},
   "outputs": [
    {
     "data": {
      "text/plain": [
       "18"
      ]
     },
     "execution_count": 308,
     "metadata": {},
     "output_type": "execute_result"
    }
   ],
   "source": [
    "# 27. ¿Cuál era la temperatura máxima en diciembre?\n",
    "max(temperaturas_diciembre)"
   ]
  },
  {
   "cell_type": "code",
   "execution_count": 309,
   "id": "3de5ab53",
   "metadata": {},
   "outputs": [
    {
     "data": {
      "text/plain": [
       "2"
      ]
     },
     "execution_count": 309,
     "metadata": {},
     "output_type": "execute_result"
    }
   ],
   "source": [
    "# 28. Encuentra el índice de 'miércoles' en dias_es.\n",
    "dias_en.index('wednesday')"
   ]
  },
  {
   "cell_type": "code",
   "execution_count": 310,
   "id": "fee9411d",
   "metadata": {},
   "outputs": [
    {
     "name": "stdout",
     "output_type": "stream",
     "text": [
      "La temperatura máxima esta semana será 31, la tendremos 1 días(s).\n",
      "El día más frío tendrá una temperatura máxima de 28, la tendremos 2 día(s).\n"
     ]
    }
   ],
   "source": [
    "# 29. Imprime esta frase en pantalla: DE LA SEMANA QUE DEFINIMOS AL PPIO\n",
    "# 'La temperatura máxima esta semana será 14 ºC, que ocurrirá en 1 días(s). El día más frío tendrá una temperatura máxima de 10 ºC, que ocurrirá en 2 día(s).'\n",
    "print(f'La temperatura máxima esta semana será {t_max}, la tendremos {temperaturas.count(t_max)} días(s).')\n",
    "print(f'El día más frío tendrá una temperatura máxima de {t_min}, la tendremos {temperaturas.count(t_min)} día(s).')"
   ]
  },
  {
   "cell_type": "markdown",
   "id": "4501d3ee",
   "metadata": {},
   "source": [
    "1. Duplicar elementos de una lista\n",
    "- Descripción: Dada una lista de números, duplica cada elemento en la lista. (output esperado: [2, 4, 6, 8, 2, 4, 6, 8])"
   ]
  },
  {
   "cell_type": "code",
   "execution_count": 311,
   "id": "9a37d5b2",
   "metadata": {},
   "outputs": [
    {
     "data": {
      "text/plain": [
       "[2, 4, 6, 8, 2, 4, 6, 8]"
      ]
     },
     "execution_count": 311,
     "metadata": {},
     "output_type": "execute_result"
    }
   ],
   "source": [
    "lista = [2, 4, 6, 8]\n",
    "lista_duplicada = lista + lista\n",
    "lista_duplicada"
   ]
  },
  {
   "cell_type": "markdown",
   "id": "50b97a72",
   "metadata": {},
   "source": [
    "2. Combinar dos listas\n",
    "- Descripción: Dadas dos listas, crea una nueva lista que contenga todos los elementos de ambas listas."
   ]
  },
  {
   "cell_type": "code",
   "execution_count": 312,
   "id": "f8d6b384",
   "metadata": {},
   "outputs": [
    {
     "data": {
      "text/plain": [
       "[1, 2, 3, 4, 5, 6]"
      ]
     },
     "execution_count": 312,
     "metadata": {},
     "output_type": "execute_result"
    }
   ],
   "source": [
    "lista1 = [1, 2, 3]\n",
    "lista2 = [4, 5, 6]\n",
    "lista_total = lista1 + lista2\n",
    "lista_total"
   ]
  },
  {
   "cell_type": "markdown",
   "id": "6dc4f944",
   "metadata": {},
   "source": [
    "3. Calcular la suma de una lista de números"
   ]
  },
  {
   "cell_type": "code",
   "execution_count": 313,
   "id": "028f28a6",
   "metadata": {},
   "outputs": [
    {
     "data": {
      "text/plain": [
       "21"
      ]
     },
     "execution_count": 313,
     "metadata": {},
     "output_type": "execute_result"
    }
   ],
   "source": [
    "suma = sum(lista_total)\n",
    "suma"
   ]
  },
  {
   "cell_type": "markdown",
   "id": "ec00fa10",
   "metadata": {},
   "source": [
    "8. Obtener una sublista de una lista\n",
    "- Descripción: Dada una lista, crea una nueva lista que contenga los elementos desde el índice 2 hasta el índice 5 (sin incluirlo)."
   ]
  },
  {
   "cell_type": "code",
   "execution_count": 314,
   "id": "8f3d6e44",
   "metadata": {},
   "outputs": [
    {
     "data": {
      "text/plain": [
       "[3, 4, 5]"
      ]
     },
     "execution_count": 314,
     "metadata": {},
     "output_type": "execute_result"
    }
   ],
   "source": [
    "sub = lista_total [2:5]\n",
    "sub"
   ]
  },
  {
   "cell_type": "markdown",
   "id": "cde04482",
   "metadata": {},
   "source": [
    "12. Reemplazar un elemento en una lista\n",
    "- Descripción: Dada una lista, reemplaza el segundo elemento con un nuevo valor."
   ]
  },
  {
   "cell_type": "code",
   "execution_count": 315,
   "id": "d9293ce2",
   "metadata": {},
   "outputs": [
    {
     "data": {
      "text/plain": [
       "[3, 8, 5]"
      ]
     },
     "execution_count": 315,
     "metadata": {},
     "output_type": "execute_result"
    }
   ],
   "source": [
    "sub[1] = 8\n",
    "sub"
   ]
  },
  {
   "cell_type": "markdown",
   "id": "2fecf092",
   "metadata": {},
   "source": [
    "13. Obtener una lista inversa\n",
    "- Descripción: Dada una lista, obtén una nueva lista que contenga los elementos en orden inverso."
   ]
  },
  {
   "cell_type": "code",
   "execution_count": 316,
   "id": "ff652ed1",
   "metadata": {},
   "outputs": [
    {
     "data": {
      "text/plain": [
       "[3, 5, 8]"
      ]
     },
     "execution_count": 316,
     "metadata": {},
     "output_type": "execute_result"
    }
   ],
   "source": [
    "sub_reversed = sorted(sub)\n",
    "sub_reversed"
   ]
  },
  {
   "cell_type": "markdown",
   "id": "1fc3f1fa",
   "metadata": {},
   "source": [
    "14. Ordenar una lista en orden ascendente\n",
    "- Descripción: Dada una lista de números, ordénala en orden ascendente."
   ]
  },
  {
   "cell_type": "code",
   "execution_count": 317,
   "id": "02eb5c2d",
   "metadata": {},
   "outputs": [
    {
     "data": {
      "text/plain": [
       "[2, 2, 4, 4, 6, 6, 8, 8]"
      ]
     },
     "execution_count": 317,
     "metadata": {},
     "output_type": "execute_result"
    }
   ],
   "source": [
    "lista_duplicada.sort()\n",
    "lista_duplicada"
   ]
  },
  {
   "cell_type": "markdown",
   "id": "21dab090",
   "metadata": {},
   "source": [
    "15. Obtener elementos pares de una lista\n",
    "- Descripción: Dada una lista, obtén una nueva lista que contenga solo los elementos en posiciones pares.  (lenguaje humano; índices de la lista, no los valores)"
   ]
  },
  {
   "cell_type": "code",
   "execution_count": 318,
   "id": "a5abea88",
   "metadata": {},
   "outputs": [
    {
     "data": {
      "text/plain": [
       "[2, 4, 6, 8]"
      ]
     },
     "execution_count": 318,
     "metadata": {},
     "output_type": "execute_result"
    }
   ],
   "source": [
    "lista_pares = lista_duplicada[1: :2]\n",
    "lista_pares"
   ]
  },
  {
   "cell_type": "markdown",
   "id": "60edbb3f",
   "metadata": {},
   "source": [
    "16. Obtener una sublista saltando elementos\n",
    "- Descripción: Dada una lista, obtén una sublista que contenga los elementos saltando de 3 en 3."
   ]
  },
  {
   "cell_type": "code",
   "execution_count": 319,
   "id": "4ff90e55",
   "metadata": {},
   "outputs": [
    {
     "data": {
      "text/plain": [
       "[2, 8, 14, 20]"
      ]
     },
     "execution_count": 319,
     "metadata": {},
     "output_type": "execute_result"
    }
   ],
   "source": [
    "lista = [2, 4, 6, 8, 10, 12, 14, 16, 18, 20]\n",
    "lista_ej16 = lista[: :3]\n",
    "lista_ej16"
   ]
  },
  {
   "cell_type": "markdown",
   "id": "ea533b15",
   "metadata": {},
   "source": [
    "17. Encontrar el segundo valor máximo en una lista\n",
    "- Descripción: Dada una lista de números, encuentra el segundo valor máximo.  \n",
    "No funcionaría con listas con valores repetidos: bucle for (más tarde)"
   ]
  },
  {
   "cell_type": "code",
   "execution_count": 320,
   "id": "28288303",
   "metadata": {},
   "outputs": [],
   "source": [
    "lista = [2, 4, 6, 8, 10, 12, 14, 16, 18, 20]"
   ]
  },
  {
   "cell_type": "code",
   "execution_count": 321,
   "id": "e00fb220",
   "metadata": {},
   "outputs": [
    {
     "name": "stdout",
     "output_type": "stream",
     "text": [
      "El 2o mayor valor es: 18.\n"
     ]
    }
   ],
   "source": [
    "v_max = max(lista) # --> 20\n",
    "index_v_max = lista.index(v_max) # --> 9\n",
    "lista.pop(9)\n",
    "v_max2 = max(lista)\n",
    "print(f'El 2o mayor valor es: {v_max2}.')"
   ]
  },
  {
   "cell_type": "code",
   "execution_count": 322,
   "id": "7c2077da",
   "metadata": {},
   "outputs": [
    {
     "data": {
      "text/plain": [
       "6"
      ]
     },
     "execution_count": 322,
     "metadata": {},
     "output_type": "execute_result"
    }
   ],
   "source": [
    "nlista = lista.pop(2)\n",
    "nlista # --> 6, no la lista sin el 20"
   ]
  },
  {
   "cell_type": "code",
   "execution_count": 323,
   "id": "0d3ae2ff",
   "metadata": {},
   "outputs": [
    {
     "name": "stdout",
     "output_type": "stream",
     "text": [
      "7\n"
     ]
    }
   ],
   "source": [
    "# Solución ejercicios resueltos: \n",
    "lista_ejr = [7, 2, 9, 1, 5]\n",
    "maximo = max(lista_ejr)\n",
    "lista_ejr.remove(maximo) # elimina la 1a a aparición de ese elemento\n",
    "segundo_maximo = max(lista_ejr)\n",
    "print(segundo_maximo)"
   ]
  },
  {
   "cell_type": "markdown",
   "id": "aa374dae",
   "metadata": {},
   "source": [
    "19. Agregar elementos a una lista utilizando append y extend\n",
    "- Descripción: Dada una lista inicial, agrega nuevos elementos utilizando tanto `append` como `extend` y observa las diferencias en el resultado final. \n",
    "- El elemento que deberéis usar para añadir a la lista original tiene que ser una lista."
   ]
  },
  {
   "cell_type": "code",
   "execution_count": 324,
   "id": "63ad50eb",
   "metadata": {},
   "outputs": [],
   "source": [
    "lista = [2, 4, 6, 8, 10, 12, 14, 16, 18, 20]\n",
    "otra = [1,2,3]"
   ]
  },
  {
   "cell_type": "code",
   "execution_count": 325,
   "id": "613c0053",
   "metadata": {},
   "outputs": [
    {
     "name": "stdout",
     "output_type": "stream",
     "text": [
      "Con append: [2, 4, 6, 8, 10, 12, 14, 16, 18, 20, [1, 2, 3]]. --> mete la lista entera como un elemento \n",
      "Con extend: [2, 4, 6, 8, 10, 12, 14, 16, 18, 20, 1, 2, 3].\n"
     ]
    }
   ],
   "source": [
    "lista_app = lista.copy()\n",
    "lista_ext = lista.copy()\n",
    "\n",
    "# append()\n",
    "lista_app.append(otra)\n",
    "\n",
    "# extend()\n",
    "lista_ext.extend(otra)\n",
    "\n",
    "print(f'Con append: {lista_app}. --> mete la lista entera como un elemento \\nCon extend: {lista_ext}.')"
   ]
  },
  {
   "cell_type": "markdown",
   "id": "680b2a88",
   "metadata": {},
   "source": [
    "20. Insertar un elemento en una posición específica\n",
    "- Descripción: Dada una lista, inserta un nuevo elemento en una posición específica determinada por el usuario  \n",
    "(debereis usar la función input para preguntar al usuario en que posición quiere insertar el elemento)."
   ]
  },
  {
   "cell_type": "code",
   "execution_count": 326,
   "id": "80cf042c",
   "metadata": {},
   "outputs": [],
   "source": [
    "lista = [2, 4, 6, 8, 10, 12, 14, 16, 18, 20]"
   ]
  },
  {
   "cell_type": "code",
   "execution_count": 327,
   "id": "d48b6f6c",
   "metadata": {},
   "outputs": [],
   "source": [
    "# elemento = int(input(\"Ingrese el elemento a añadir: \"))\n",
    "# posicion = int(input(\"Ingrese la posición de inserción: \"))\n",
    "\n",
    "# lista.insert(posicion, elemento)\n",
    "# print(lista)"
   ]
  },
  {
   "cell_type": "markdown",
   "id": "2d95caeb",
   "metadata": {},
   "source": [
    "21. Verificar si un elemento está presente en una lista\n",
    "- Descripción: Dada una lista, verifica si un elemento específico está presente en ella.  \n",
    "Igual que el caso anterior, debereis preguntar al usuario que elemento quiere buscar en la lista. El resultado deberá ser True o False."
   ]
  },
  {
   "cell_type": "code",
   "execution_count": 328,
   "id": "3d952591",
   "metadata": {},
   "outputs": [],
   "source": [
    "lista = [2, 4, 6, 8, 10, 12, 14, 16, 18, 20]"
   ]
  },
  {
   "cell_type": "code",
   "execution_count": 329,
   "id": "7102f666",
   "metadata": {},
   "outputs": [],
   "source": [
    "# elemento = int(input(\"Ingrese el elemento: \"))\n",
    "\n",
    "# existencia_elemento = elemento in lista\n",
    "# print(f'El elemento introducido se encuentra en la lista: {existencia_elemento}.')"
   ]
  },
  {
   "cell_type": "markdown",
   "id": "5a94f081",
   "metadata": {},
   "source": [
    "22. Manipulación de una lista utilizando remove(), pop() y clear()\n",
    "- Descripción: Crea una lista inicial, realiza operaciones de eliminación y limpieza utilizando los métodos:  \n",
    "`remove()`, `pop()` y `clear()`, y observa cómo afectan a la lista."
   ]
  },
  {
   "cell_type": "code",
   "execution_count": 330,
   "id": "1648b53f",
   "metadata": {},
   "outputs": [],
   "source": [
    "lista_22 = [2, 4, 6, 8, 10, 10, 12, 14, 16, 18, 20]"
   ]
  },
  {
   "cell_type": "code",
   "execution_count": 331,
   "id": "e953337c",
   "metadata": {},
   "outputs": [
    {
     "data": {
      "text/plain": [
       "[2, 4, 6, 8, 10, 12, 14, 16, 18, 20]"
      ]
     },
     "execution_count": 331,
     "metadata": {},
     "output_type": "execute_result"
    }
   ],
   "source": [
    "lista_22.remove(10) # quita la 1a aparición de ese elemento\n",
    "lista_22"
   ]
  },
  {
   "cell_type": "code",
   "execution_count": 332,
   "id": "0597d4ab",
   "metadata": {},
   "outputs": [
    {
     "data": {
      "text/plain": [
       "[2, 4, 6, 10, 12, 14, 16, 18, 20]"
      ]
     },
     "execution_count": 332,
     "metadata": {},
     "output_type": "execute_result"
    }
   ],
   "source": [
    "lista_22.pop(3) # --> resultado sale: 8\n",
    "lista_22"
   ]
  },
  {
   "cell_type": "code",
   "execution_count": 333,
   "id": "5ece4251",
   "metadata": {},
   "outputs": [
    {
     "data": {
      "text/plain": [
       "[]"
      ]
     },
     "execution_count": 333,
     "metadata": {},
     "output_type": "execute_result"
    }
   ],
   "source": [
    "lista_22.clear()\n",
    "lista_22"
   ]
  },
  {
   "cell_type": "markdown",
   "id": "fe8800ec",
   "metadata": {},
   "source": [
    "## TUPLAS"
   ]
  },
  {
   "cell_type": "markdown",
   "id": "2aedb634",
   "metadata": {},
   "source": [
    "Objetos NO MUTABLES, ordenados (se puede indexar), HETEROGÉNEOS"
   ]
  },
  {
   "cell_type": "code",
   "execution_count": 334,
   "id": "fb1fdff3",
   "metadata": {},
   "outputs": [
    {
     "data": {
      "text/plain": [
       "(61, 1.54, 'pelo marron')"
      ]
     },
     "execution_count": 334,
     "metadata": {},
     "output_type": "execute_result"
    }
   ],
   "source": [
    "# 1. Crea una tupla `persona1` para juntar los siguientes datos: 61 kg, 1.54 m altura, pelo marrón, sin usar paréntesis. \n",
    "# (Serán del tipo `int`, `float` y `str`.)\n",
    "persona1 = 61, 1.54, \"pelo marron\"\n",
    "persona1"
   ]
  },
  {
   "cell_type": "code",
   "execution_count": 335,
   "id": "0df339ee",
   "metadata": {},
   "outputs": [
    {
     "data": {
      "text/plain": [
       "(68, 1.65, 'pelo rubio')"
      ]
     },
     "execution_count": 335,
     "metadata": {},
     "output_type": "execute_result"
    }
   ],
   "source": [
    "# 2. Crea una tupla para la `persona2` de 68 kg, 1.65 m y pelo rubio, usando paréntesis\n",
    "persona2 = (68, 1.65, \"pelo rubio\")\n",
    "persona2"
   ]
  },
  {
   "cell_type": "code",
   "execution_count": 336,
   "id": "c073a936",
   "metadata": {},
   "outputs": [
    {
     "data": {
      "text/plain": [
       "['M', 42, 39]"
      ]
     },
     "execution_count": 336,
     "metadata": {},
     "output_type": "execute_result"
    }
   ],
   "source": [
    "#  3. Crea una lista `talla` que recompila 'M', 42, y 39.\n",
    "talla = [\"M\", 42, 39]\n",
    "talla"
   ]
  },
  {
   "cell_type": "code",
   "execution_count": 337,
   "id": "313ff661",
   "metadata": {},
   "outputs": [
    {
     "data": {
      "text/plain": [
       "('M', 42, 39)"
      ]
     },
     "execution_count": 337,
     "metadata": {},
     "output_type": "execute_result"
    }
   ],
   "source": [
    "# 4. Convierte la lista `talla` a una tupla.\n",
    "talla = tuple(talla)\n",
    "talla"
   ]
  },
  {
   "cell_type": "code",
   "execution_count": 338,
   "id": "3445343e",
   "metadata": {},
   "outputs": [
    {
     "name": "stdout",
     "output_type": "stream",
     "text": [
      "(61, 1.54, 'pelo marron', 'M', 42, 39) --> \"+\": elementos independientes\n",
      "((61, 1.54, 'pelo marron'), ('M', 42, 39)) --> \",\": conjunto de grupos\n"
     ]
    }
   ],
   "source": [
    "# 5. Une a la tupla de `persona1` los datos en `talla`.\n",
    "lista_pt = persona1 + talla # te lo añade independiente\n",
    "lista_pt_tuplas = persona1, talla\n",
    "print(lista_pt, '--> \"+\": elementos independientes')\n",
    "print(lista_pt_tuplas, '--> \",\": conjunto de grupos')"
   ]
  },
  {
   "cell_type": "code",
   "execution_count": 339,
   "id": "93b56e72",
   "metadata": {},
   "outputs": [
    {
     "data": {
      "text/plain": [
       "'pelo rubio'"
      ]
     },
     "execution_count": 339,
     "metadata": {},
     "output_type": "execute_result"
    }
   ],
   "source": [
    "# 6. Saca de `persona2` el contenido del tercer elemento y llámalo `color`.\n",
    "color = persona2[2]\n",
    "color"
   ]
  },
  {
   "cell_type": "code",
   "execution_count": 340,
   "id": "70036404",
   "metadata": {},
   "outputs": [
    {
     "data": {
      "text/plain": [
       "3"
      ]
     },
     "execution_count": 340,
     "metadata": {},
     "output_type": "execute_result"
    }
   ],
   "source": [
    "# 7. ¿Cuántos elementos hay ahora en `persona2`? (Es decir, ¿cuál es su longitud?)\n",
    "len(persona2)"
   ]
  },
  {
   "cell_type": "markdown",
   "id": "e7f981b6",
   "metadata": {},
   "source": [
    "--> DESEMBALAMOS tuplas:"
   ]
  },
  {
   "cell_type": "code",
   "execution_count": 341,
   "id": "8e8ad726",
   "metadata": {},
   "outputs": [
    {
     "name": "stdout",
     "output_type": "stream",
     "text": [
      "(61, 1.54, 'pelo marron')\n",
      "peso: 61\n",
      "altura: 1.54\n",
      "color_pelo: pelo marron\n"
     ]
    }
   ],
   "source": [
    "# 8. Crea las variables `peso`, `altura`, `color`, `camiseta`, `pantalon`, y `zapatos` \n",
    "# llénalas con el contenido de `persona1`. Imprime `camiseta` para comprobar el resultado.\n",
    "print(persona1)\n",
    "peso, altura, color_pelo = persona1\n",
    "print('peso:', peso)\n",
    "print('altura:', altura)\n",
    "print('color_pelo:', color_pelo)\n"
   ]
  },
  {
   "cell_type": "code",
   "execution_count": 342,
   "id": "ae07e096",
   "metadata": {},
   "outputs": [
    {
     "data": {
      "text/plain": [
       "(61, 1.54, 'pelo marron')"
      ]
     },
     "execution_count": 342,
     "metadata": {},
     "output_type": "execute_result"
    }
   ],
   "source": [
    "# 11. Crea una tupla `etiquetas` con `'peso'`, `'altura'`, y `'color'`.\n",
    "etiquetas = peso, altura, color_pelo\n",
    "etiquetas"
   ]
  },
  {
   "cell_type": "markdown",
   "id": "11681c68",
   "metadata": {},
   "source": [
    "### Funcion ZIP"
   ]
  },
  {
   "cell_type": "code",
   "execution_count": 343,
   "id": "24ea34e2",
   "metadata": {},
   "outputs": [
    {
     "name": "stdout",
     "output_type": "stream",
     "text": [
      "(61, 1.54, 'pelo marron')\n",
      "(68, 1.65, 'pelo rubio')\n",
      "...................\n",
      "[(61, 68), (1.54, 1.65), ('pelo marron', 'pelo rubio')]\n"
     ]
    }
   ],
   "source": [
    "# 9. Crea el zip `personas` con `persona1` y `persona2`.    --> crea PAREJAS\n",
    "personas = list(zip(persona1, persona2))\n",
    "print(persona1)\n",
    "print(persona2)\n",
    "print('...................')\n",
    "print(personas)"
   ]
  },
  {
   "cell_type": "code",
   "execution_count": 344,
   "id": "25459169",
   "metadata": {},
   "outputs": [
    {
     "data": {
      "text/plain": [
       "3"
      ]
     },
     "execution_count": 344,
     "metadata": {},
     "output_type": "execute_result"
    }
   ],
   "source": [
    "# 10. ¿Cuántas \"elementos\" tiene `personas`? ¿Por qué? --> lista de 3 tuplas\n",
    "len(personas)"
   ]
  },
  {
   "cell_type": "code",
   "execution_count": 345,
   "id": "cc980762",
   "metadata": {},
   "outputs": [
    {
     "data": {
      "text/plain": [
       "[(61, 61, 68),\n",
       " (1.54, 1.54, 1.65),\n",
       " ('pelo marron', 'pelo marron', 'pelo rubio')]"
      ]
     },
     "execution_count": 345,
     "metadata": {},
     "output_type": "execute_result"
    }
   ],
   "source": [
    "# 12. Crea al zip de `etiquetas`, `persona1`, y `persona2`.    --> crea PAREJAS\n",
    "todo = list(zip(etiquetas, persona1, persona2))\n",
    "todo"
   ]
  },
  {
   "cell_type": "markdown",
   "id": "2980f27b",
   "metadata": {},
   "source": [
    "\n",
    "\n",
    "1. Ejercicio: Acceder al primer elemento de una tupla\n",
    "   - Descripción: Dada una tupla, obtén el primer elemento.\n"
   ]
  },
  {
   "cell_type": "code",
   "execution_count": 346,
   "id": "239fa548",
   "metadata": {},
   "outputs": [
    {
     "name": "stdout",
     "output_type": "stream",
     "text": [
      "10\n"
     ]
    }
   ],
   "source": [
    "tupla = (10, 20, 30)\n",
    "primer_elemento = tupla[0]\n",
    "print(primer_elemento)"
   ]
  },
  {
   "cell_type": "markdown",
   "id": "5dc69e3e",
   "metadata": {},
   "source": [
    "\n",
    "2. Ejercicio: Acceder al último elemento de una tupla\n",
    "   - Descripción: Dada una tupla, obtén el último elemento."
   ]
  },
  {
   "cell_type": "code",
   "execution_count": 347,
   "id": "b38e8b6d",
   "metadata": {},
   "outputs": [
    {
     "name": "stdout",
     "output_type": "stream",
     "text": [
      "Cereza\n"
     ]
    }
   ],
   "source": [
    "tupla = (\"Manzana\", \"Banana\", \"Cereza\")\n",
    "ultimo_elemento = tupla[-1]\n",
    "print(ultimo_elemento)"
   ]
  },
  {
   "cell_type": "markdown",
   "id": "6b0652c0",
   "metadata": {},
   "source": [
    "\n",
    "3. Ejercicio: Obtener la longitud de una tupla\n",
    "   - Descripción: Dada una tupla, obtén la cantidad de elementos que contiene."
   ]
  },
  {
   "cell_type": "code",
   "execution_count": 348,
   "id": "6b81e694",
   "metadata": {},
   "outputs": [
    {
     "name": "stdout",
     "output_type": "stream",
     "text": [
      "5\n"
     ]
    }
   ],
   "source": [
    "tupla = (1, 2, 3, 4, 5)\n",
    "longitud = len(tupla)\n",
    "print(longitud)"
   ]
  },
  {
   "cell_type": "markdown",
   "id": "8adcfa2f",
   "metadata": {},
   "source": [
    "\n",
    "5. Ejercicio: Encontrar el índice de un elemento en una tupla\n",
    "   - Descripción: Dada una tupla y un valor objetivo, encuentra el índice del primer elemento que coincida con el valor objetivo.\n"
   ]
  },
  {
   "cell_type": "code",
   "execution_count": 349,
   "id": "63c265d8",
   "metadata": {},
   "outputs": [
    {
     "name": "stdout",
     "output_type": "stream",
     "text": [
      "2\n"
     ]
    }
   ],
   "source": [
    "tupla = (10, 20, 30, 40, 50)\n",
    "objetivo = 30\n",
    "indice = tupla.index(objetivo)\n",
    "print(indice)"
   ]
  },
  {
   "cell_type": "markdown",
   "id": "3833c963",
   "metadata": {},
   "source": [
    "6. Ejercicio: Contar ocurrencias de un elemento en una tupla\n",
    "   - Descripción: Dada una tupla y un valor objetivo, cuenta cuántas veces aparece el valor objetivo en la tupla."
   ]
  },
  {
   "cell_type": "code",
   "execution_count": 350,
   "id": "87018344",
   "metadata": {},
   "outputs": [
    {
     "name": "stdout",
     "output_type": "stream",
     "text": [
      "4\n"
     ]
    }
   ],
   "source": [
    "tupla = (1, 2, 2, 3, 2, 4, 2)\n",
    "objetivo = 2\n",
    "contador = tupla.count(objetivo)\n",
    "print(contador)"
   ]
  },
  {
   "cell_type": "markdown",
   "id": "f696b305",
   "metadata": {},
   "source": [
    "7. Ejercicio: Obtener una subtuple de una tupla\n",
    "   - Descripción: Dada una tupla, crea una nueva tupla que contenga los elementos desde el índice 1 hasta el índice 3 (sin incluirlo).\n"
   ]
  },
  {
   "cell_type": "code",
   "execution_count": 351,
   "id": "88d9a121",
   "metadata": {},
   "outputs": [
    {
     "name": "stdout",
     "output_type": "stream",
     "text": [
      "(2, 3)\n"
     ]
    }
   ],
   "source": [
    "tupla = (1, 2, 3, 4, 5)\n",
    "subtuple = tupla[1:3]\n",
    "print(subtuple)"
   ]
  },
  {
   "cell_type": "markdown",
   "id": "e109308a",
   "metadata": {},
   "source": [
    "\n",
    "8. Ejercicio: Invertir una tupla\n",
    "    - Descripción: Dada una tupla, inviértela en orden.\n"
   ]
  },
  {
   "cell_type": "code",
   "execution_count": 352,
   "id": "f06054ea",
   "metadata": {},
   "outputs": [
    {
     "name": "stdout",
     "output_type": "stream",
     "text": [
      "(5, 4, 3, 2, 1)\n"
     ]
    }
   ],
   "source": [
    "tupla = (1, 2, 3, 4, 5)\n",
    "tupla_invertida = tupla[::-1]\n",
    "print(tupla_invertida)"
   ]
  },
  {
   "cell_type": "markdown",
   "id": "8d2f4ac4",
   "metadata": {},
   "source": [
    "## DICCIONARIOS"
   ]
  },
  {
   "cell_type": "markdown",
   "id": "a4394809",
   "metadata": {},
   "source": [
    "Definir diccionarios\n",
    "\n",
    "1. Crea el diccionario festivos con las fechas como claves y los nombres como valores: (...)\n",
    "2. Crea el diccionario monarcas con los países como claves y los nombres como valores: (...)"
   ]
  },
  {
   "cell_type": "code",
   "execution_count": 353,
   "id": "57d1372e",
   "metadata": {},
   "outputs": [],
   "source": [
    "festivos = {'01/01':'Año Nuevo', \n",
    "            '06/01': 'Epifanía del Señor', \n",
    "            '15/04': 'Viernes Santo', \n",
    "            '15/08': 'Asunción de la Virgen',\n",
    "            '12/10': 'Fiesta Nacional de España',\n",
    "            '01/11': 'Todos los Santos',\n",
    "            '06/12': 'Día de la Constitución Española',\n",
    "            '08/12': 'Inmaculada Concepción'}\n",
    "monarcas = {'Bélgica': 'Philippe', 'Dinamarca': 'Margrethe II', 'Holanda': 'Beatrix', \n",
    "            'Noruega': 'Harald V', 'España': 'Felipe VI', 'Reino Unido': 'Carlos III'}"
   ]
  },
  {
   "cell_type": "markdown",
   "id": "f91a4606",
   "metadata": {},
   "source": [
    "Leer, añadir, y cambiar elementos\n",
    "\n",
    "3. ¿Qué festivo hay el 15/04?\n",
    "4. La reina 'Beatrix' abdicó, ahora es el rey 'Willem-Alexander'. Actualiza el dict.\n",
    "5. El rey de Luxemburgo se llama Henri. Añadelo al dict usando .update().\n",
    "\n",
    "5ext.Actualizar valores"
   ]
  },
  {
   "cell_type": "code",
   "execution_count": 354,
   "id": "f8504a29",
   "metadata": {},
   "outputs": [
    {
     "name": "stdout",
     "output_type": "stream",
     "text": [
      "Festivo del día 15 de abril: Viernes Santo\n"
     ]
    }
   ],
   "source": [
    "print(f'Festivo del día 15 de abril: {festivos['15/04']}')"
   ]
  },
  {
   "cell_type": "code",
   "execution_count": 355,
   "id": "adcd41cd",
   "metadata": {},
   "outputs": [
    {
     "data": {
      "text/plain": [
       "{'Bélgica': 'Philippe',\n",
       " 'Dinamarca': 'Margrethe II',\n",
       " 'Holanda': 'Willem-Alexander',\n",
       " 'Noruega': 'Harald V',\n",
       " 'España': 'Felipe VI',\n",
       " 'Reino Unido': 'Carlos III'}"
      ]
     },
     "execution_count": 355,
     "metadata": {},
     "output_type": "execute_result"
    }
   ],
   "source": [
    "monarcas['Holanda'] = 'Willem-Alexander'\n",
    "monarcas"
   ]
  },
  {
   "cell_type": "code",
   "execution_count": 356,
   "id": "a09c5f00",
   "metadata": {},
   "outputs": [
    {
     "data": {
      "text/plain": [
       "{'Bélgica': 'Philippe',\n",
       " 'Dinamarca': 'Margrethe II',\n",
       " 'Holanda': 'Willem-Alexander',\n",
       " 'Noruega': 'Harald V',\n",
       " 'España': 'Felipe VI',\n",
       " 'Reino Unido': 'Carlos III',\n",
       " 'Luxemburgo': 'Henri'}"
      ]
     },
     "execution_count": 356,
     "metadata": {},
     "output_type": "execute_result"
    }
   ],
   "source": [
    "monarcas['Luxemburgo']= 'Henri'\n",
    "monarcas"
   ]
  },
  {
   "cell_type": "code",
   "execution_count": 357,
   "id": "619df47f",
   "metadata": {},
   "outputs": [],
   "source": [
    "# actualizar valores: UPDATE() --> es el \"insert\", \"extend\" para el diccionario, para AÑADIR\n",
    "# - setdefault: también podría ser (sólo 1 key-value)\n",
    "nuevos_valores = {'país1': 'Pepa I', 'país2': 'Pepa II', 'país3': 'Pepa III'} # dict\n",
    "a_añadir= [('país4','Pepa IV'), ('país5','Pepa V'), ('país6','Pepa VI')]     # lista de tuplas: te lo mete como diccionario!"
   ]
  },
  {
   "cell_type": "code",
   "execution_count": 358,
   "id": "f2b7df4d",
   "metadata": {},
   "outputs": [
    {
     "data": {
      "text/plain": [
       "{'Bélgica': 'Philippe',\n",
       " 'Dinamarca': 'Margrethe II',\n",
       " 'Holanda': 'Willem-Alexander',\n",
       " 'Noruega': 'Harald V',\n",
       " 'España': 'Felipe VI',\n",
       " 'Reino Unido': 'Carlos III',\n",
       " 'Luxemburgo': 'Henri',\n",
       " 'país1': 'Pepa I',\n",
       " 'país2': 'Pepa II',\n",
       " 'país3': 'Pepa III'}"
      ]
     },
     "execution_count": 358,
     "metadata": {},
     "output_type": "execute_result"
    }
   ],
   "source": [
    "monarcas.update(nuevos_valores)\n",
    "monarcas"
   ]
  },
  {
   "cell_type": "code",
   "execution_count": 359,
   "id": "65dc1c83",
   "metadata": {},
   "outputs": [
    {
     "data": {
      "text/plain": [
       "{'Bélgica': 'Philippe',\n",
       " 'Dinamarca': 'Margrethe II',\n",
       " 'Holanda': 'Willem-Alexander',\n",
       " 'Noruega': 'Harald V',\n",
       " 'España': 'Felipe VI',\n",
       " 'Reino Unido': 'Carlos III',\n",
       " 'Luxemburgo': 'Henri',\n",
       " 'país1': 'Pepa I',\n",
       " 'país2': 'Pepa II',\n",
       " 'país3': 'Pepa III',\n",
       " 'país4': 'Pepa IV',\n",
       " 'país5': 'Pepa V',\n",
       " 'país6': 'Pepa VI'}"
      ]
     },
     "execution_count": 359,
     "metadata": {},
     "output_type": "execute_result"
    }
   ],
   "source": [
    "monarcas.update(a_añadir)\n",
    "monarcas"
   ]
  },
  {
   "cell_type": "markdown",
   "id": "65faf5ce",
   "metadata": {},
   "source": [
    "Obtener valores\n",
    "\n",
    "17. ¿Qué festivo hay el 06/01?\n",
    "18. Obten el festivo que haya el 08/03, y en su defecto devuélve 'Día Internacional de la Mujer'.\n",
    "19. Obten el festivo que haya el 31/11, y si no existe crea un par de clave-valor nuevo con el valor de 'Todos los Santos'."
   ]
  },
  {
   "cell_type": "code",
   "execution_count": 360,
   "id": "7af42206",
   "metadata": {},
   "outputs": [
    {
     "name": "stdout",
     "output_type": "stream",
     "text": [
      "Festivo 6 de enero:  Epifanía del Señor\n",
      "Festivo 8 de marzo:  No existe en el calendario: Día Internacional de la Mujer\n"
     ]
    }
   ],
   "source": [
    "festivo_0601 = festivos['06/01']\n",
    "print('Festivo 6 de enero: ', festivo_0601)\n",
    "festivo_0803 = festivos.get('08/03', \"No existe en el calendario: Día Internacional de la Mujer\")\n",
    "print('Festivo 8 de marzo: ', festivo_0803 )"
   ]
  },
  {
   "cell_type": "code",
   "execution_count": 361,
   "id": "9221991e",
   "metadata": {},
   "outputs": [
    {
     "data": {
      "text/plain": [
       "{'01/01': 'Año Nuevo',\n",
       " '06/01': 'Epifanía del Señor',\n",
       " '15/04': 'Viernes Santo',\n",
       " '15/08': 'Asunción de la Virgen',\n",
       " '12/10': 'Fiesta Nacional de España',\n",
       " '01/11': 'Todos los Santos',\n",
       " '06/12': 'Día de la Constitución Española',\n",
       " '08/12': 'Inmaculada Concepción',\n",
       " '31/11': 'Todos los Santos'}"
      ]
     },
     "execution_count": 361,
     "metadata": {},
     "output_type": "execute_result"
    }
   ],
   "source": [
    "festivo_3111 = festivos.setdefault('31/11', 'Todos los Santos') \n",
    "# festivo_311 --> te dice que no está definido ERROR\n",
    "festivos"
   ]
  },
  {
   "cell_type": "code",
   "execution_count": 362,
   "id": "da2e18f6",
   "metadata": {},
   "outputs": [
    {
     "data": {
      "text/plain": [
       "'Todos los Santos'"
      ]
     },
     "execution_count": 362,
     "metadata": {},
     "output_type": "execute_result"
    }
   ],
   "source": [
    "festivo_3111 = festivos.setdefault('31/11', 'Pepito Grillo') \n",
    "festivo_3111\n",
    "# ya está definido, el resultado es el value"
   ]
  },
  {
   "cell_type": "markdown",
   "id": "20a796ca",
   "metadata": {},
   "source": [
    "Comprobar contenidos\n",
    "\n",
    "6. ¿Cuántos países están definidos en monarcas?\n",
    "7. ¿Es 'Monaco' uno de ellos? // Mirar si Henri está en el dict\n",
    "8. ¿Es verdad que nos olvidamos de poner 'Suecia'? Compruébalo de una manera en que obtengas un True o False."
   ]
  },
  {
   "cell_type": "code",
   "execution_count": 363,
   "id": "c6e963ab",
   "metadata": {},
   "outputs": [
    {
     "data": {
      "text/plain": [
       "13"
      ]
     },
     "execution_count": 363,
     "metadata": {},
     "output_type": "execute_result"
    }
   ],
   "source": [
    "len(monarcas)"
   ]
  },
  {
   "cell_type": "code",
   "execution_count": 364,
   "id": "82b57502",
   "metadata": {},
   "outputs": [
    {
     "data": {
      "text/plain": [
       "False"
      ]
     },
     "execution_count": 364,
     "metadata": {},
     "output_type": "execute_result"
    }
   ],
   "source": [
    "'Monaco' in monarcas"
   ]
  },
  {
   "cell_type": "code",
   "execution_count": 365,
   "id": "ece74e1b",
   "metadata": {},
   "outputs": [
    {
     "data": {
      "text/plain": [
       "True"
      ]
     },
     "execution_count": 365,
     "metadata": {},
     "output_type": "execute_result"
    }
   ],
   "source": [
    "# si fuera un value:\n",
    "'Henri' in monarcas.values()"
   ]
  },
  {
   "cell_type": "code",
   "execution_count": 366,
   "id": "17e8d908",
   "metadata": {},
   "outputs": [
    {
     "data": {
      "text/plain": [
       "True"
      ]
     },
     "execution_count": 366,
     "metadata": {},
     "output_type": "execute_result"
    }
   ],
   "source": [
    "# Es verdad? suecia NO esta, debemos obtener un True\n",
    "'Suecia' not in monarcas"
   ]
  },
  {
   "cell_type": "markdown",
   "id": "0aaace0e",
   "metadata": {},
   "source": [
    "Listar los contenidos\n",
    "\n",
    "9. Saca una lista de todos los países en el dict monarcas.\n",
    "10. Saca una lista de los nombres de los festivos.  \n",
    "11. Imprime el diccionario de festivos.\n",
    "12. Imprime una lista de tuplas de todos los elementos que hay en festivos"
   ]
  },
  {
   "cell_type": "code",
   "execution_count": 367,
   "id": "ced92a3c",
   "metadata": {},
   "outputs": [
    {
     "data": {
      "text/plain": [
       "['Bélgica',\n",
       " 'Dinamarca',\n",
       " 'Holanda',\n",
       " 'Noruega',\n",
       " 'España',\n",
       " 'Reino Unido',\n",
       " 'Luxemburgo',\n",
       " 'país1',\n",
       " 'país2',\n",
       " 'país3',\n",
       " 'país4',\n",
       " 'país5',\n",
       " 'país6']"
      ]
     },
     "execution_count": 367,
     "metadata": {},
     "output_type": "execute_result"
    }
   ],
   "source": [
    "paises = list(monarcas.keys())\n",
    "paises"
   ]
  },
  {
   "cell_type": "code",
   "execution_count": 368,
   "id": "a458daa4",
   "metadata": {},
   "outputs": [
    {
     "data": {
      "text/plain": [
       "['Año Nuevo',\n",
       " 'Epifanía del Señor',\n",
       " 'Viernes Santo',\n",
       " 'Asunción de la Virgen',\n",
       " 'Fiesta Nacional de España',\n",
       " 'Todos los Santos',\n",
       " 'Día de la Constitución Española',\n",
       " 'Inmaculada Concepción',\n",
       " 'Todos los Santos']"
      ]
     },
     "execution_count": 368,
     "metadata": {},
     "output_type": "execute_result"
    }
   ],
   "source": [
    "nombres_festivos = list(festivos.values())\n",
    "nombres_festivos"
   ]
  },
  {
   "cell_type": "code",
   "execution_count": 369,
   "id": "8d2670d6",
   "metadata": {},
   "outputs": [
    {
     "data": {
      "text/plain": [
       "[('01/01', 'Año Nuevo'),\n",
       " ('06/01', 'Epifanía del Señor'),\n",
       " ('15/04', 'Viernes Santo'),\n",
       " ('15/08', 'Asunción de la Virgen'),\n",
       " ('12/10', 'Fiesta Nacional de España'),\n",
       " ('01/11', 'Todos los Santos'),\n",
       " ('06/12', 'Día de la Constitución Española'),\n",
       " ('08/12', 'Inmaculada Concepción'),\n",
       " ('31/11', 'Todos los Santos')]"
      ]
     },
     "execution_count": 369,
     "metadata": {},
     "output_type": "execute_result"
    }
   ],
   "source": [
    "# lista de tuplas --> elementos 'festivos'\n",
    "zip_festivos = list(zip(festivos.keys(), festivos.values())) # ó zip(festivos.items()) directamente\n",
    "zip_festivos"
   ]
  },
  {
   "cell_type": "markdown",
   "id": "0ef9be9a",
   "metadata": {},
   "source": [
    "Copiar dicts, y borrar elementos\n",
    "\n",
    "13. Copia monarcas a monarcas2010.\n",
    "14. Quita España de monarcas2010.\n",
    "15. Quita el último elemento de monarcas2010."
   ]
  },
  {
   "cell_type": "code",
   "execution_count": 370,
   "id": "9d1a77d1",
   "metadata": {},
   "outputs": [
    {
     "data": {
      "text/plain": [
       "{'Bélgica': 'Philippe',\n",
       " 'Dinamarca': 'Margrethe II',\n",
       " 'Holanda': 'Willem-Alexander',\n",
       " 'Noruega': 'Harald V',\n",
       " 'España': 'Felipe VI',\n",
       " 'Reino Unido': 'Carlos III',\n",
       " 'Luxemburgo': 'Henri',\n",
       " 'país1': 'Pepa I',\n",
       " 'país2': 'Pepa II',\n",
       " 'país3': 'Pepa III',\n",
       " 'país4': 'Pepa IV',\n",
       " 'país5': 'Pepa V',\n",
       " 'país6': 'Pepa VI'}"
      ]
     },
     "execution_count": 370,
     "metadata": {},
     "output_type": "execute_result"
    }
   ],
   "source": [
    "monarcas2010 = monarcas.copy()\n",
    "monarcas2010"
   ]
  },
  {
   "cell_type": "code",
   "execution_count": 371,
   "id": "56b180e3",
   "metadata": {},
   "outputs": [
    {
     "data": {
      "text/plain": [
       "'Felipe VI'"
      ]
     },
     "execution_count": 371,
     "metadata": {},
     "output_type": "execute_result"
    }
   ],
   "source": [
    "monarcas2010.pop('España')"
   ]
  },
  {
   "cell_type": "code",
   "execution_count": 372,
   "id": "6a7cf239",
   "metadata": {},
   "outputs": [
    {
     "data": {
      "text/plain": [
       "{'Bélgica': 'Philippe',\n",
       " 'Dinamarca': 'Margrethe II',\n",
       " 'Holanda': 'Willem-Alexander',\n",
       " 'Noruega': 'Harald V',\n",
       " 'Reino Unido': 'Carlos III',\n",
       " 'Luxemburgo': 'Henri',\n",
       " 'país1': 'Pepa I',\n",
       " 'país2': 'Pepa II',\n",
       " 'país3': 'Pepa III',\n",
       " 'país4': 'Pepa IV',\n",
       " 'país5': 'Pepa V',\n",
       " 'país6': 'Pepa VI'}"
      ]
     },
     "execution_count": 372,
     "metadata": {},
     "output_type": "execute_result"
    }
   ],
   "source": [
    "monarcas2010"
   ]
  },
  {
   "cell_type": "code",
   "execution_count": 373,
   "id": "9480030e",
   "metadata": {},
   "outputs": [
    {
     "data": {
      "text/plain": [
       "('país6', 'Pepa VI')"
      ]
     },
     "execution_count": 373,
     "metadata": {},
     "output_type": "execute_result"
    }
   ],
   "source": [
    "monarcas2010.popitem()"
   ]
  },
  {
   "cell_type": "code",
   "execution_count": 374,
   "id": "ac2d5c5b",
   "metadata": {},
   "outputs": [
    {
     "data": {
      "text/plain": [
       "{'Bélgica': 'Philippe',\n",
       " 'Dinamarca': 'Margrethe II',\n",
       " 'Holanda': 'Willem-Alexander',\n",
       " 'Noruega': 'Harald V',\n",
       " 'Reino Unido': 'Carlos III',\n",
       " 'Luxemburgo': 'Henri',\n",
       " 'país1': 'Pepa I',\n",
       " 'país2': 'Pepa II',\n",
       " 'país3': 'Pepa III',\n",
       " 'país4': 'Pepa IV',\n",
       " 'país5': 'Pepa V'}"
      ]
     },
     "execution_count": 374,
     "metadata": {},
     "output_type": "execute_result"
    }
   ],
   "source": [
    "monarcas2010"
   ]
  },
  {
   "cell_type": "markdown",
   "id": "5c6bb87f",
   "metadata": {},
   "source": [
    "Vaciar y borrar dicts\n",
    "\n",
    "16. Vacia el dict monarcas2010."
   ]
  },
  {
   "cell_type": "code",
   "execution_count": 375,
   "id": "52a3a3cf",
   "metadata": {},
   "outputs": [],
   "source": [
    "monarcas2010.clear()"
   ]
  },
  {
   "cell_type": "code",
   "execution_count": 376,
   "id": "ac71b635",
   "metadata": {},
   "outputs": [
    {
     "data": {
      "text/plain": [
       "{}"
      ]
     },
     "execution_count": 376,
     "metadata": {},
     "output_type": "execute_result"
    }
   ],
   "source": [
    "monarcas2010"
   ]
  },
  {
   "cell_type": "markdown",
   "id": "2d6febe3",
   "metadata": {},
   "source": [
    "## SETs"
   ]
  },
  {
   "cell_type": "markdown",
   "id": "96ca5faf",
   "metadata": {},
   "source": [
    "Colección NO ORDENADA!!!!, elementos ÚNICOS, MUTABLES  \n",
    "Para operaciones matemáticas"
   ]
  },
  {
   "cell_type": "code",
   "execution_count": 377,
   "id": "735e291f",
   "metadata": {},
   "outputs": [],
   "source": [
    "# LISTA:\n",
    "temperaturas_diciembre = [10, 10, 13, 14, 12, 15, \n",
    "                                  12, 11, 13, 17, 18, 15, \n",
    "                                  15, 17, 17, 13, 13, 11,\n",
    "                                  12, 10, 12, 14, 12, 12,\n",
    "                                  11, 12, 16, 16, 14, 17, 18]"
   ]
  },
  {
   "cell_type": "code",
   "execution_count": 378,
   "id": "8502d879",
   "metadata": {},
   "outputs": [
    {
     "data": {
      "text/plain": [
       "{10, 11, 12, 13, 14, 15, 16, 17, 18}"
      ]
     },
     "execution_count": 378,
     "metadata": {},
     "output_type": "execute_result"
    }
   ],
   "source": [
    "set_diciembre = set(temperaturas_diciembre)\n",
    "set_diciembre"
   ]
  },
  {
   "cell_type": "code",
   "execution_count": 379,
   "id": "7f2aa122",
   "metadata": {},
   "outputs": [
    {
     "data": {
      "text/plain": [
       "{'amarillo', 'azul', 'morado', 'negro', 'rojo', 'verde'}"
      ]
     },
     "execution_count": 379,
     "metadata": {},
     "output_type": "execute_result"
    }
   ],
   "source": [
    "set_colores = {\"rojo\", \"amarillo\", \"verde\", \"azul\", \"morado\", \"negro\"}\n",
    "set_colores"
   ]
  },
  {
   "cell_type": "code",
   "execution_count": 380,
   "id": "ba1ccdac",
   "metadata": {},
   "outputs": [
    {
     "data": {
      "text/plain": [
       "{'amarillo', 'azul', 'lila', 'morado', 'negro', 'rojo', 'verde'}"
      ]
     },
     "execution_count": 380,
     "metadata": {},
     "output_type": "execute_result"
    }
   ],
   "source": [
    "# 4. Añade `'lila'` a `colores`\n",
    "set_colores.add(\"lila\") # lo añade DONDE LE DA LA GANA; no se puede indexar\n",
    "set_colores"
   ]
  },
  {
   "cell_type": "code",
   "execution_count": 381,
   "id": "403ee8a6",
   "metadata": {},
   "outputs": [
    {
     "data": {
      "text/plain": [
       "{'amarillo', 'azul', 'granate', 'lila', 'morado', 'negro', 'rojo', 'verde'}"
      ]
     },
     "execution_count": 381,
     "metadata": {},
     "output_type": "execute_result"
    }
   ],
   "source": [
    "# 5. Añade MÚLTIPLES elementos: `'azul'`, `'rojo'`, y `'granate'` a `colores` usando `.update()`.\n",
    "set_a_añadir= {\"azul\", \"rojo\", \"granate\"}\n",
    "set_colores.update(set_a_añadir)    # o ponerlos directamente\n",
    "set_colores"
   ]
  },
  {
   "cell_type": "code",
   "execution_count": 382,
   "id": "0eb435e0",
   "metadata": {},
   "outputs": [
    {
     "data": {
      "text/plain": [
       "True"
      ]
     },
     "execution_count": 382,
     "metadata": {},
     "output_type": "execute_result"
    }
   ],
   "source": [
    "#  6. Tu set de `colores`, ¿tiene `'verde'`?\n",
    "\"verde\" in set_colores"
   ]
  },
  {
   "cell_type": "code",
   "execution_count": 383,
   "id": "8e75c3c5",
   "metadata": {},
   "outputs": [
    {
     "data": {
      "text/plain": [
       "{10, 11, 12, 13, 14, 15, 16}"
      ]
     },
     "execution_count": 383,
     "metadata": {},
     "output_type": "execute_result"
    }
   ],
   "source": [
    "# 8. Define el set `enero` para que sea igual a `diciembre`.\n",
    "set_enero = set_diciembre.copy()\n",
    "# 9. Quita las temperaturas `17`, y `18` de `enero`.\n",
    "set_enero.remove(17)\n",
    "set_enero.remove(18)\n",
    "set_enero"
   ]
  },
  {
   "cell_type": "code",
   "execution_count": 384,
   "id": "d7c772dc",
   "metadata": {},
   "outputs": [
    {
     "data": {
      "text/plain": [
       "9"
      ]
     },
     "execution_count": 384,
     "metadata": {},
     "output_type": "execute_result"
    }
   ],
   "source": [
    "# 10. ¿Cuántas temperaturas distintas había en diciembre?\n",
    "len(set_diciembre) # un SET siempre tiene VALORES DISTINTOS"
   ]
  },
  {
   "cell_type": "markdown",
   "id": "014fbcce",
   "metadata": {},
   "source": [
    "### OPERACIONES DE CONJUNTOS"
   ]
  },
  {
   "cell_type": "code",
   "execution_count": 385,
   "id": "df7da073",
   "metadata": {},
   "outputs": [
    {
     "data": {
      "text/plain": [
       "{17, 18}"
      ]
     },
     "execution_count": 385,
     "metadata": {},
     "output_type": "execute_result"
    }
   ],
   "source": [
    "# 12. Identifica los elementos que hay en `diciembre` que no están en `enero` --> DIFERENCIA\n",
    "set_diciembre.difference(set_enero) # resultado otro set\n"
   ]
  },
  {
   "cell_type": "code",
   "execution_count": 386,
   "id": "d9b869f3",
   "metadata": {},
   "outputs": [
    {
     "data": {
      "text/plain": [
       "set()"
      ]
     },
     "execution_count": 386,
     "metadata": {},
     "output_type": "execute_result"
    }
   ],
   "source": [
    "# 13. Identifica los elementos que hay en `enero` que no están en `diciembre` --> DIFERENCIA\n",
    "set_enero.difference(set_diciembre)"
   ]
  },
  {
   "cell_type": "code",
   "execution_count": 387,
   "id": "40f8eaed",
   "metadata": {},
   "outputs": [
    {
     "data": {
      "text/plain": [
       "{10, 11, 12, 13, 14, 15, 16}"
      ]
     },
     "execution_count": 387,
     "metadata": {},
     "output_type": "execute_result"
    }
   ],
   "source": [
    "# 14. Identifica los elementos que tienen en común `diciembre` y `enero` --> INTERSECCIÓN\n",
    "set_diciembre & set_enero"
   ]
  },
  {
   "cell_type": "code",
   "execution_count": 388,
   "id": "533ded42",
   "metadata": {},
   "outputs": [
    {
     "data": {
      "text/plain": [
       "{'azul',\n",
       " 'cyan',\n",
       " 'granate',\n",
       " 'lila',\n",
       " 'marrón',\n",
       " 'morado',\n",
       " 'negro',\n",
       " 'rojo',\n",
       " 'verde'}"
      ]
     },
     "execution_count": 388,
     "metadata": {},
     "output_type": "execute_result"
    }
   ],
   "source": [
    "# 15. Identifica la DIFERENCIA SIMÉTRICA de `colores` y `{'marrón','amarillo','cian'}`. \n",
    "# ¿Qué significa este resultado? --> set que contiene los elementos\n",
    "# que están en UNO de los conjuntos pero NO EN AMBOS   (orden no importa)\n",
    "set_colores2 = {'marrón','amarillo','cyan'}\n",
    "dif= set_colores ^ set_colores2\n",
    "dif"
   ]
  },
  {
   "cell_type": "code",
   "execution_count": 389,
   "id": "e58500ab",
   "metadata": {},
   "outputs": [
    {
     "name": "stdout",
     "output_type": "stream",
     "text": [
      "False porque TIENEN elementos en común\n",
      "False porque TIENEN elementos en común\n"
     ]
    }
   ],
   "source": [
    "# 16. ¿Son DISJOINT `diciembre` y `enero`? ¿Por qué (no)? ORDEN NO IMPORTA\n",
    "print(set_diciembre.isdisjoint(set_enero), 'porque TIENEN elementos en común')\n",
    "print(set_enero.isdisjoint(set_diciembre), 'porque TIENEN elementos en común')"
   ]
  },
  {
   "cell_type": "code",
   "execution_count": 390,
   "id": "d3f46489",
   "metadata": {},
   "outputs": [
    {
     "name": "stdout",
     "output_type": "stream",
     "text": [
      "False porque NO todos los elementos de colores están en colores3\n",
      "True porque TODOS los elementos de colores3 están en colores\n"
     ]
    }
   ],
   "source": [
    "# 17. ¿Es `{'rojo','azul'}` un SUPERSET de colores?\n",
    "colores3 = {'rojo','azul'}\n",
    "print(colores3.issuperset(set_colores), 'porque NO todos los elementos de colores están en colores3')\n",
    "print(set_colores.issuperset(colores3), 'porque TODOS los elementos de colores3 están en colores')"
   ]
  },
  {
   "cell_type": "code",
   "execution_count": 391,
   "id": "08e1db83",
   "metadata": {},
   "outputs": [
    {
     "name": "stdout",
     "output_type": "stream",
     "text": [
      "True porque TODOS los elementos de colores3 están en colores\n",
      "False porque NO todos los elementos de colores están en colores3\n"
     ]
    }
   ],
   "source": [
    "# 18. ¿Y un subset?\n",
    "colores3 = {'rojo','azul'}\n",
    "print(colores3.issubset(set_colores), 'porque TODOS los elementos de colores3 están en colores')\n",
    "print(set_colores.issubset(colores3), 'porque NO todos los elementos de colores están en colores3')"
   ]
  },
  {
   "cell_type": "markdown",
   "id": "2d95c43d",
   "metadata": {},
   "source": [
    "## Sentencias de Control"
   ]
  },
  {
   "cell_type": "markdown",
   "id": "b05fc684",
   "metadata": {},
   "source": [
    "### if: estructuras de selección"
   ]
  },
  {
   "cell_type": "code",
   "execution_count": 392,
   "id": "528b3a49",
   "metadata": {},
   "outputs": [],
   "source": [
    "var1 = 8\n",
    "var2 = 2\n",
    "var3 = 8"
   ]
  },
  {
   "cell_type": "code",
   "execution_count": 393,
   "id": "989f4dd2",
   "metadata": {},
   "outputs": [
    {
     "name": "stdout",
     "output_type": "stream",
     "text": [
      "Es enorme también\n"
     ]
    }
   ],
   "source": [
    "# 2. Comprueba si var1 es mayor que 6, y si es así imprime ¡Es enorme!.\n",
    "if var1 > 6:\n",
    "    print(\"Es enorme también\")"
   ]
  },
  {
   "cell_type": "code",
   "execution_count": 394,
   "id": "01555ace",
   "metadata": {},
   "outputs": [],
   "source": [
    "# 3. Comprueba si `var2` es mayor que 6, y si es así imprime `¡Es enorme también!`.\n",
    "if var2 > 6:\n",
    "    print(\"Es enorme también\")"
   ]
  },
  {
   "cell_type": "code",
   "execution_count": 395,
   "id": "bdd02948",
   "metadata": {},
   "outputs": [
    {
     "name": "stdout",
     "output_type": "stream",
     "text": [
      "Son iguales\n"
     ]
    }
   ],
   "source": [
    "#  5. Comprueba si `var1` es igual que `var3`, y si es así imprime `Son iguales.`\n",
    "if var1 == var3:\n",
    "    print(\"Son iguales\")"
   ]
  },
  {
   "cell_type": "code",
   "execution_count": 396,
   "id": "56b8f5f7",
   "metadata": {},
   "outputs": [
    {
     "name": "stdout",
     "output_type": "stream",
     "text": [
      "La diferencia es 6\n"
     ]
    }
   ],
   "source": [
    "# 7. Comprueba si `var1` es mayor o igual que `var2`, \n",
    "# y si es así calcula la diferencia entre `var1` y `var2`, guardala en la variable `dif`, e imprime `'La diferencia es',dif`. \n",
    "if var1 >= var2:\n",
    "    dif = var1 - var2\n",
    "    print(f\"La diferencia es {dif}\")"
   ]
  },
  {
   "cell_type": "code",
   "execution_count": 397,
   "id": "d6ac0a28",
   "metadata": {},
   "outputs": [
    {
     "name": "stdout",
     "output_type": "stream",
     "text": [
      "Es enorme\n"
     ]
    }
   ],
   "source": [
    "# 8. Comprueba si `var1` es mayor que 6, \n",
    "# y si es así imprime `¡Es enorme!`. Si no es así imprime `Es chiquitín.`.\n",
    "if var1 > 6:\n",
    "    print(\"Es enorme\")\n",
    "else:\n",
    "    print(\"Es chiquitín\")"
   ]
  },
  {
   "cell_type": "code",
   "execution_count": 398,
   "id": "f6dc08a3",
   "metadata": {},
   "outputs": [
    {
     "name": "stdout",
     "output_type": "stream",
     "text": [
      "El máximo es: 15\n"
     ]
    }
   ],
   "source": [
    "# 4. Calcular el máximo entre dos números:\n",
    "numero1 = 10\n",
    "numero2 = 15\n",
    "\n",
    "if numero1 > numero2:\n",
    "    num_max = numero1\n",
    "else:\n",
    "    num_max = numero2\n",
    "\n",
    "print(\"El máximo es:\", num_max)"
   ]
  },
  {
   "cell_type": "code",
   "execution_count": 399,
   "id": "d48b090d",
   "metadata": {},
   "outputs": [
    {
     "name": "stdout",
     "output_type": "stream",
     "text": [
      "Es una consonante\n"
     ]
    }
   ],
   "source": [
    "# 5. Verificar si una letra es una vocal o una consonante\n",
    "\n",
    "# letra = input('Qué letra desea insertar: ').lower()\n",
    "\n",
    "if letra in ['a', 'e', 'i', 'o', 'u']:\n",
    "    print(\"Es una vocal\")\n",
    "else:\n",
    "    print(\"Es una consonante\")"
   ]
  },
  {
   "cell_type": "code",
   "execution_count": 400,
   "id": "2c082db4",
   "metadata": {},
   "outputs": [
    {
     "name": "stdout",
     "output_type": "stream",
     "text": [
      "Precio de compra: 220 \n",
      "Descuento: 22.0 \n",
      "Precio final con descuento: 198.0\n"
     ]
    }
   ],
   "source": [
    "# 6. Dado el monto total de una compra, \n",
    "# calcula el descuento aplicado según las siguientes condiciones: \n",
    "# si el monto es mayor o igual a $100, aplica un descuento del 10%; \n",
    "# de lo contrario, no aplica ningún descuento.\n",
    "\n",
    "coste_compra= 220\n",
    "\n",
    "if coste_compra >= 100:\n",
    "    descuento = coste_compra*0.10\n",
    "    coste_final = coste_compra - descuento\n",
    "else:\n",
    "    descuento = 'No aplica ningún descuento'\n",
    "    coste_final = coste_compra\n",
    "\n",
    "print(f'Precio de compra: {coste_compra} \\nDescuento: {descuento} \\nPrecio final con descuento: {coste_final}')"
   ]
  },
  {
   "cell_type": "code",
   "execution_count": 401,
   "id": "fcf5b0ec",
   "metadata": {},
   "outputs": [
    {
     "name": "stdout",
     "output_type": "stream",
     "text": [
      "Es un año bisiesto\n"
     ]
    }
   ],
   "source": [
    "# 7. Verificar si un año es bisiesto o no:\n",
    "# un año es bisiesto si es divisible entre 4, excepto aquellos divisibles entre 100 pero no entre 400.\n",
    "\n",
    "anio = 2024\n",
    "\n",
    "if anio % 4 == 0 and (anio % 100 != 0 or anio % 400 == 0):\n",
    "    print(\"Es un año bisiesto\")\n",
    "else:\n",
    "    print(\"No es un año bisiesto\")"
   ]
  },
  {
   "cell_type": "code",
   "execution_count": 402,
   "id": "b7f7ec8c",
   "metadata": {},
   "outputs": [
    {
     "name": "stdout",
     "output_type": "stream",
     "text": [
      "Forman un triángulo rectángulo\n"
     ]
    }
   ],
   "source": [
    "# 9. Verificar si tres números forman un triángulo rectángulo\n",
    "# si se cumple el teorema de Pitágoras: lado1**2 + lado2**2 = lado 3**2.\n",
    "\n",
    "lado1 = 3\n",
    "lado2 = 4\n",
    "lado3 = 5\n",
    "\n",
    "if lado1**2 + lado2**2 == lado3**2 or lado1**2 + lado3**2 == lado2**2 or lado2**2 + lado3**2 == lado1**2:\n",
    "    print(\"Forman un triángulo rectángulo\")\n",
    "else:\n",
    "    print(\"No forman un triángulo rectángulo\")"
   ]
  },
  {
   "cell_type": "code",
   "execution_count": 403,
   "id": "a25787e0",
   "metadata": {},
   "outputs": [
    {
     "name": "stdout",
     "output_type": "stream",
     "text": [
      "Categoría del IMC: Peso Normal\n"
     ]
    }
   ],
   "source": [
    "# 11. Calcular el índice de masa corporal (IMC) y categorizarlo\n",
    "# Dados el peso (en kg) y la altura (en metros) de una persona, \n",
    "# calcula su IMC y categorízalo según las siguientes condiciones: \n",
    "# 1) si el IMC es menor a 18.5, es \"Bajo peso\"; \n",
    "# 2) si está entre 18.5 y 24.9 (inclusive), es \"Peso normal\"; \n",
    "# 3) si está entre 25 y 29.9 (inclusive), es \"Sobrepeso\"; \n",
    "# 4) de lo contrario, es \"Obesidad\".\n",
    "\n",
    "peso = 70\n",
    "altura = 1.75\n",
    "\n",
    "imc = peso / (altura ** 2)\n",
    "\n",
    "if imc < 18.5:\n",
    "    categoria = 'Bajo peso'\n",
    "elif 18.5 <= imc <= 24.9:\n",
    "    categoria = 'Peso Normal'\n",
    "elif 25 <= imc <= 29.9:\n",
    "    categoria = 'Sobrepeso'\n",
    "else:\n",
    "    categoria = 'Obesidad'\n",
    "\n",
    "print(\"Categoría del IMC:\", categoria)\n"
   ]
  },
  {
   "cell_type": "code",
   "execution_count": 404,
   "id": "e1eb3aa3",
   "metadata": {},
   "outputs": [
    {
     "name": "stdout",
     "output_type": "stream",
     "text": [
      "Categoría del IMC: Peso normal\n"
     ]
    }
   ],
   "source": [
    "peso = 70\n",
    "altura = 1.75\n",
    "\n",
    "imc = peso / (altura ** 2)\n",
    "\n",
    "if imc < 18.5:\n",
    "    categoria = \"Bajo peso\"\n",
    "else:\n",
    "    if imc <= 24.9:\n",
    "        categoria = \"Peso normal\"\n",
    "    else:\n",
    "        if imc <= 29.9:\n",
    "            categoria = \"Sobrepeso\"\n",
    "        else:\n",
    "            categoria = \"Obesidad\"\n",
    "\n",
    "print(\"Categoría del IMC:\", categoria)"
   ]
  },
  {
   "cell_type": "code",
   "execution_count": 405,
   "id": "69ef9b3a",
   "metadata": {},
   "outputs": [
    {
     "name": "stdout",
     "output_type": "stream",
     "text": [
      "El mayor es: 15\n"
     ]
    }
   ],
   "source": [
    "# 12. Calcular el mayor de 3 números:\n",
    "n1 = 10\n",
    "n2 = 15\n",
    "n3 = 12\n",
    "\n",
    "if n1 >= n2 and n1 >= n3:\n",
    "    mayor = n1\n",
    "else:\n",
    "    if n2 >= n1 and n2 >= n3:\n",
    "        mayor = n2\n",
    "    else:\n",
    "        mayor = n3\n",
    "\n",
    "print(\"El mayor es:\", mayor)\n"
   ]
  },
  {
   "cell_type": "code",
   "execution_count": 406,
   "id": "479a8a0e",
   "metadata": {},
   "outputs": [
    {
     "name": "stdout",
     "output_type": "stream",
     "text": [
      "La fecha no es válida\n"
     ]
    }
   ],
   "source": [
    "# 13.  Dados el día, el mes y el año de una fecha, verifica si la fecha es válida.\n",
    "dia = 31\n",
    "mes = 2\n",
    "anio = 2022\n",
    "\n",
    "if mes in [1, 3, 5, 7, 8, 10, 12]:\n",
    "    if dia <= 31:\n",
    "        fecha_valida = True\n",
    "    else:\n",
    "        fecha_valida = False\n",
    "elif mes in [4, 6, 9, 11]:\n",
    "    if dia <= 30:\n",
    "        fecha_valida = True\n",
    "    else:\n",
    "        fecha_valida = False\n",
    "else:  # Mes de febrero\n",
    "    if (anio % 4 == 0 and anio % 100 != 0) or anio % 400 == 0:\n",
    "        if dia <= 29:\n",
    "            fecha_valida = True\n",
    "        else:\n",
    "            fecha_valida = False\n",
    "    else:\n",
    "        if dia <= 28:\n",
    "            fecha_valida = True\n",
    "        else:\n",
    "            fecha_valida = False\n",
    "\n",
    "if fecha_valida:\n",
    "    print(\"La fecha es válida\")\n",
    "else:\n",
    "    print(\"La fecha no es válida\")\n"
   ]
  },
  {
   "cell_type": "markdown",
   "id": "47c5fbc7",
   "metadata": {},
   "source": [
    "11.Escribe un programa para una empresa que tiene salas de juegos para todas las edades y quiere calcular de forma automática el precio que debe cobrar a sus clientes por entrar. El programa debe preguntar al usuario:\n",
    "\n",
    "La edad del cliente.\n",
    "\n",
    "Las condiciones que tendremos que chequear:\n",
    "- Si el cliente es menor de 4 años puede entrar gratis,\n",
    "- Si tiene entre 4 y 18 años debe pagar 5€ y\n",
    "- Si es mayor de 18 años, 10€."
   ]
  },
  {
   "cell_type": "code",
   "execution_count": 407,
   "id": "03f36f92",
   "metadata": {},
   "outputs": [
    {
     "ename": "NameError",
     "evalue": "name 'años' is not defined",
     "output_type": "error",
     "traceback": [
      "\u001b[1;31m---------------------------------------------------------------------------\u001b[0m",
      "\u001b[1;31mNameError\u001b[0m                                 Traceback (most recent call last)",
      "Cell \u001b[1;32mIn[407], line 3\u001b[0m\n\u001b[0;32m      1\u001b[0m \u001b[38;5;66;03m# años = int(input(\"¿Cuantos años tienes\"))\u001b[39;00m\n\u001b[1;32m----> 3\u001b[0m \u001b[38;5;28;01mif\u001b[39;00m años \u001b[38;5;241m<\u001b[39m \u001b[38;5;241m4\u001b[39m:\n\u001b[0;32m      4\u001b[0m     \u001b[38;5;28mprint\u001b[39m(\u001b[38;5;124m\"\u001b[39m\u001b[38;5;124mEntrada gratis\u001b[39m\u001b[38;5;124m\"\u001b[39m)\n\u001b[0;32m      5\u001b[0m \u001b[38;5;28;01melif\u001b[39;00m años \u001b[38;5;241m>\u001b[39m\u001b[38;5;241m=\u001b[39m \u001b[38;5;241m4\u001b[39m \u001b[38;5;129;01mand\u001b[39;00m años \u001b[38;5;241m<\u001b[39m\u001b[38;5;241m=\u001b[39m \u001b[38;5;241m18\u001b[39m:\n",
      "\u001b[1;31mNameError\u001b[0m: name 'años' is not defined"
     ]
    }
   ],
   "source": [
    "# años = int(input(\"¿Cuantos años tienes\"))\n",
    "\n",
    "if años < 4:\n",
    "    print(\"Entrada gratis\")\n",
    "elif años >= 4 and años <= 18:\n",
    "    print(\"Debes pagar 5 euros\")\n",
    "else:\n",
    "    print(\"Debes pagar 10 euros\")"
   ]
  },
  {
   "cell_type": "markdown",
   "id": "cd95f1a4",
   "metadata": {},
   "source": [
    "14. Crea un programa que calcule el impuesto sobre la renta de una persona basado en su ingreso anual y su estado civil (soltero o casado). Para eso deberás:\n",
    "\n",
    "- Solicitar al usuario su ingreso anual.\n",
    "\n",
    "- Preguntar al usuario su estado civil, permitiendo dos opciones: \"soltero\" (S) o \"casado\" (C).\n",
    "\n",
    "- Calcular el impuesto sobre la renta utilizando las siguientes reglas:\n",
    "\n",
    "    - Si el estado civil es \"soltero\" (S):\n",
    "\n",
    "        - Si el ingreso anual es menor o igual a $9,875, el impuesto es el 10% del ingreso anual.\n",
    "\n",
    "        - Si el ingreso anual está entre $9,876 y $40,125, el impuesto es el 10% de los primeros $9,875 más el 12% de la cantidad que excede los $9,875.\n",
    "\n",
    "    - Si el estado civil es \"casado\" (C):\n",
    "\n",
    "        - Si el ingreso anual es menor o igual a $19,850, el impuesto es el 10% del ingreso anual.\n",
    "\n",
    "        - Si el ingreso anual está entre $19,851 y $80,250, el impuesto es el 10% de los primeros $19,850 más el 12% de la cantidad que excede los $19,850."
   ]
  },
  {
   "cell_type": "code",
   "execution_count": null,
   "id": "26b23739",
   "metadata": {},
   "outputs": [
    {
     "ename": "NameError",
     "evalue": "name 'estado_civil' is not defined",
     "output_type": "error",
     "traceback": [
      "\u001b[1;31m---------------------------------------------------------------------------\u001b[0m",
      "\u001b[1;31mNameError\u001b[0m                                 Traceback (most recent call last)",
      "Cell \u001b[1;32mIn[283], line 5\u001b[0m\n\u001b[0;32m      1\u001b[0m \u001b[38;5;66;03m# solución PAIR\u001b[39;00m\n\u001b[0;32m      2\u001b[0m \u001b[38;5;66;03m# ingreso_anual = float(input('Indique su ingreso anual.'))\u001b[39;00m\n\u001b[0;32m      3\u001b[0m \u001b[38;5;66;03m# estado_civil = (input('Indique su estado civil ( S = soltero, C = casado).')).capitalize()\u001b[39;00m\n\u001b[1;32m----> 5\u001b[0m \u001b[38;5;28;01mif\u001b[39;00m estado_civil \u001b[38;5;241m==\u001b[39m \u001b[38;5;124m'\u001b[39m\u001b[38;5;124mS\u001b[39m\u001b[38;5;124m'\u001b[39m:\n\u001b[0;32m      6\u001b[0m     \u001b[38;5;28;01mif\u001b[39;00m ingreso_anual \u001b[38;5;241m<\u001b[39m\u001b[38;5;241m=\u001b[39m \u001b[38;5;241m9875\u001b[39m:\n\u001b[0;32m      7\u001b[0m         impuesto \u001b[38;5;241m=\u001b[39m ingreso_anual \u001b[38;5;241m*\u001b[39m \u001b[38;5;241m0.1\u001b[39m\n",
      "\u001b[1;31mNameError\u001b[0m: name 'estado_civil' is not defined"
     ]
    }
   ],
   "source": [
    "# solución PAIR\n",
    "\n",
    "# ingreso_anual = float(input('Indique su ingreso anual.'))\n",
    "# estado_civil = (input('Indique su estado civil ( S = soltero, C = casado).')).capitalize()\n",
    "\n",
    "if estado_civil == 'S':\n",
    "    if ingreso_anual <= 9875:\n",
    "        impuesto = ingreso_anual * 0.1\n",
    "        print(f'El ingreso anual es: {ingreso_anual}')\n",
    "        print(f'Su estado civil es: {estado_civil}')\n",
    "        print(f'El impuesto es de {round(impuesto, 2)}.')\n",
    "    elif ingreso_anual >= 9876 and ingreso_anual <= 40125:\n",
    "        impuesto = (9875 * 0.1) + ((ingreso_anual - 9875)*0.12)\n",
    "        print(f'El ingreso anual es: {ingreso_anual}')\n",
    "        print(f'Su estado civil es: {estado_civil}')\n",
    "        print(f'El impuesto es de {round(impuesto, 2)}.')\n",
    "    else:\n",
    "        impuesto = ingreso_anual * 0.12\n",
    "        print(f'El ingreso anual es: {ingreso_anual}')\n",
    "        print(f'Su estado civil es: {estado_civil}')\n",
    "        print(f'El impuesto es de {round(impuesto, 2)}.')\n",
    "\n",
    "elif estado_civil == 'C':\n",
    "    if ingreso_anual <= 198750:\n",
    "        impuesto = ingreso_anual * 0.1\n",
    "        print(f'El ingreso anual es: {ingreso_anual}')\n",
    "        print(f'Su estado civil es: {estado_civil}')\n",
    "        print(f'El impuesto es de {round(impuesto, 2)}.')\n",
    "    elif ingreso_anual >= 19851 and ingreso_anual <= 80250:\n",
    "        impuesto = (19851 * 0.1) + ((ingreso_anual - 19851)*0.12)\n",
    "        print(f'El ingreso anual es: {ingreso_anual}')\n",
    "        print(f'Su estado civil es: {estado_civil}')\n",
    "        print(f'El impuesto es de {round(impuesto, 2)}.')\n",
    "    else:\n",
    "        impuesto = ingreso_anual * 0.12\n",
    "        print(f'El ingreso anual es: {ingreso_anual}')\n",
    "        print(f'Su estado civil es: {estado_civil}')\n",
    "        print(f'El impuesto es de {round(impuesto, 2)}.')\n",
    "\n",
    "else:\n",
    "    print(f'El ingreso anual es: {ingreso_anual}')\n",
    "    print('El estado civil es incorrecto. Pruebe de nuevo.')"
   ]
  },
  {
   "cell_type": "code",
   "execution_count": null,
   "id": "fa21777e",
   "metadata": {},
   "outputs": [
    {
     "ename": "NameError",
     "evalue": "name 'estado_civil' is not defined",
     "output_type": "error",
     "traceback": [
      "\u001b[1;31m---------------------------------------------------------------------------\u001b[0m",
      "\u001b[1;31mNameError\u001b[0m                                 Traceback (most recent call last)",
      "Cell \u001b[1;32mIn[284], line 8\u001b[0m\n\u001b[0;32m      1\u001b[0m \u001b[38;5;66;03m# Solicita el salario anual al usuario\u001b[39;00m\n\u001b[0;32m      2\u001b[0m \u001b[38;5;66;03m# Solicita el ingreso anual y el estado civil al usuario\u001b[39;00m\n\u001b[0;32m      3\u001b[0m \n\u001b[1;32m   (...)\u001b[0m\n\u001b[0;32m      6\u001b[0m \n\u001b[0;32m      7\u001b[0m \u001b[38;5;66;03m# Calcula el impuesto sobre la renta\u001b[39;00m\n\u001b[1;32m----> 8\u001b[0m \u001b[38;5;28;01mif\u001b[39;00m estado_civil\u001b[38;5;241m.\u001b[39mupper() \u001b[38;5;241m==\u001b[39m \u001b[38;5;124m\"\u001b[39m\u001b[38;5;124mS\u001b[39m\u001b[38;5;124m\"\u001b[39m:\n\u001b[0;32m      9\u001b[0m     \u001b[38;5;28;01mif\u001b[39;00m ingreso_anual \u001b[38;5;241m<\u001b[39m\u001b[38;5;241m=\u001b[39m \u001b[38;5;241m9875\u001b[39m:\n\u001b[0;32m     10\u001b[0m         impuesto \u001b[38;5;241m=\u001b[39m ingreso_anual \u001b[38;5;241m*\u001b[39m \u001b[38;5;241m0.10\u001b[39m\n",
      "\u001b[1;31mNameError\u001b[0m: name 'estado_civil' is not defined"
     ]
    }
   ],
   "source": [
    "# Solicita el salario anual al usuario\n",
    "# Solicita el ingreso anual y el estado civil al usuario\n",
    "\n",
    "# ingreso_anual = float(input(\"Ingresa tu ingreso anual: \"))\n",
    "# estado_civil = input(\"¿Eres soltero o casado? (S/C): \")\n",
    "\n",
    "# Calcula el impuesto sobre la renta\n",
    "if estado_civil.upper() == \"S\":\n",
    "    if ingreso_anual <= 9875:\n",
    "        impuesto = ingreso_anual * 0.10\n",
    "    elif ingreso_anual <= 40125:\n",
    "        impuesto = 9875 * 0.10 + (ingreso_anual - 9875) * 0.12\n",
    "    # Continúa con más tramos impositivos si es necesario\n",
    "else:\n",
    "    if ingreso_anual <= 19850:\n",
    "        impuesto = ingreso_anual * 0.10\n",
    "    elif ingreso_anual <= 80250:\n",
    "        impuesto = 19850 * 0.10 + (ingreso_anual - 19850) * 0.12\n",
    "    # Continúa con más tramos impositivos si es necesario\n",
    "\n",
    "print(f\"Tu impuesto sobre la renta es: ${impuesto:.2f}\")"
   ]
  },
  {
   "cell_type": "markdown",
   "id": "2669ee4c",
   "metadata": {},
   "source": [
    "### for: estructura de iteración (loops)"
   ]
  },
  {
   "cell_type": "markdown",
   "id": "e5e5d6a3",
   "metadata": {},
   "source": [
    "#### RANGE"
   ]
  },
  {
   "cell_type": "code",
   "execution_count": null,
   "id": "ba4ba90b",
   "metadata": {},
   "outputs": [
    {
     "name": "stdout",
     "output_type": "stream",
     "text": [
      "0\n",
      "1\n",
      "2\n",
      "3\n",
      "4\n",
      "5\n"
     ]
    }
   ],
   "source": [
    "# 3. Define e imprime un rango de 0 a 6 (excluido).\n",
    "for i in range(6):\n",
    "    print(i)"
   ]
  },
  {
   "cell_type": "code",
   "execution_count": null,
   "id": "fe86781e",
   "metadata": {},
   "outputs": [
    {
     "data": {
      "text/plain": [
       "[3, 4, 5, 6]"
      ]
     },
     "execution_count": 262,
     "metadata": {},
     "output_type": "execute_result"
    }
   ],
   "source": [
    "# 4. Define e imprime un rango de 3 a 6 ambos incluidos.\n",
    "indices = []\n",
    "\n",
    "for i in range(3,7):\n",
    "    indices.append(i)\n",
    "\n",
    "indices"
   ]
  },
  {
   "cell_type": "code",
   "execution_count": null,
   "id": "2a00d918",
   "metadata": {},
   "outputs": [
    {
     "data": {
      "text/plain": [
       "[2, 5, 8, 11]"
      ]
     },
     "execution_count": 263,
     "metadata": {},
     "output_type": "execute_result"
    }
   ],
   "source": [
    "# 7. Define e imprime un rango que empiece en 2, aumentando cada paso por 3, \n",
    "# que pare antes de llegar al número 13.\n",
    "indices= []\n",
    "\n",
    "for i in range(2, 14, 3):\n",
    "    indices.append(i)\n",
    "\n",
    "indices"
   ]
  },
  {
   "cell_type": "code",
   "execution_count": 433,
   "id": "d2ca328a",
   "metadata": {},
   "outputs": [
    {
     "name": "stdout",
     "output_type": "stream",
     "text": [
      "El producto de los elementos de la lista es: 120\n"
     ]
    }
   ],
   "source": [
    "# Dada una lista de números, utiliza un bucle for para calcular el producto de todos los elementos.\n",
    "lista = [2, 3, 4, 5]\n",
    "producto = 1\n",
    "\n",
    "for n in lista:\n",
    "    valor = producto * n # o poner directamente  producto*= n\n",
    "    producto = valor\n",
    "\n",
    "print(\"El producto de los elementos de la lista es:\", producto)"
   ]
  },
  {
   "cell_type": "markdown",
   "id": "38ab7892",
   "metadata": {},
   "source": [
    "---------------------------------------------"
   ]
  },
  {
   "cell_type": "code",
   "execution_count": null,
   "id": "54fe4150",
   "metadata": {},
   "outputs": [],
   "source": [
    "temperaturas = [23, 12, 37, 33, 1, 6, 15]"
   ]
  },
  {
   "cell_type": "code",
   "execution_count": null,
   "id": "6241a68f",
   "metadata": {},
   "outputs": [
    {
     "name": "stdout",
     "output_type": "stream",
     "text": [
      "[1, 6]\n",
      "[12, 15]\n",
      "[23, 37, 33]\n"
     ]
    }
   ],
   "source": [
    "#  1. Cread tres listas nuevas, donde:\n",
    "bajas_temp = []\n",
    "medias_temp = []\n",
    "altas_temp = []\n",
    "\n",
    "for temp in temperaturas:\n",
    "    if temp <= 10.9:\n",
    "        bajas_temp.append(temp)\n",
    "    elif temp >= 11 and temp <= 19.9:\n",
    "        medias_temp.append(temp)\n",
    "    else:\n",
    "        altas_temp.append(temp)\n",
    "\n",
    "print(bajas_temp)\n",
    "print(medias_temp)\n",
    "print(altas_temp)"
   ]
  },
  {
   "cell_type": "code",
   "execution_count": null,
   "id": "27ee3793",
   "metadata": {},
   "outputs": [
    {
     "name": "stdout",
     "output_type": "stream",
     "text": [
      "([1, 6], [12, 15], [23, 37, 33])\n",
      "<class 'tuple'>\n"
     ]
    }
   ],
   "source": [
    "#  2. Para cada una de las listas creadas en el ejercicio anterior, \n",
    "# convertid las temperaturas a grados fahrenheit\n",
    "todas = bajas_temp.copy() , medias_temp.copy() , altas_temp.copy()\n",
    "print(todas)\n",
    "print(type(todas))"
   ]
  },
  {
   "cell_type": "code",
   "execution_count": null,
   "id": "78846d85",
   "metadata": {},
   "outputs": [
    {
     "data": {
      "text/plain": [
       "range(0, 3)"
      ]
     },
     "execution_count": 267,
     "metadata": {},
     "output_type": "execute_result"
    }
   ],
   "source": [
    "indices_altastemp= range(len(altas_temp))\n",
    "indices_altastemp"
   ]
  },
  {
   "cell_type": "code",
   "execution_count": null,
   "id": "08e06f2f",
   "metadata": {},
   "outputs": [
    {
     "data": {
      "text/plain": [
       "[0, 1, 2]"
      ]
     },
     "execution_count": 268,
     "metadata": {},
     "output_type": "execute_result"
    }
   ],
   "source": [
    "list(indices_altastemp)"
   ]
  },
  {
   "cell_type": "code",
   "execution_count": null,
   "id": "65bba024",
   "metadata": {},
   "outputs": [
    {
     "data": {
      "text/plain": [
       "([33.8, 42.8], [53.6, 59.0], [73.4, 98.6, 91.4])"
      ]
     },
     "execution_count": 269,
     "metadata": {},
     "output_type": "execute_result"
    }
   ],
   "source": [
    "for lista in todas:\n",
    "    for indice in range(len(lista)): # => longitud de cada lista en la tupla: \n",
    "        lista[indice] = (lista[indice] *  9 / 5) + 32\n",
    "todas"
   ]
  },
  {
   "cell_type": "markdown",
   "id": "9a3e8fb2",
   "metadata": {},
   "source": [
    "--> bucle for con DICCIONARIOS!!!"
   ]
  },
  {
   "cell_type": "code",
   "execution_count": 415,
   "id": "025aefbc",
   "metadata": {},
   "outputs": [
    {
     "data": {
      "text/plain": [
       "{'a': 2, 'e': 0, 'i': 0, 'o': 0, 'u': 0}"
      ]
     },
     "execution_count": 415,
     "metadata": {},
     "output_type": "execute_result"
    }
   ],
   "source": [
    "# 15. Pide al usuario ingresar una cadena y \n",
    "# cuenta cuántas veces aparece cada vocal (a, e, i, o, u) en la cadena.\n",
    "\n",
    "frase = input(\"Que frase quieres\")  # resultado: string (iterable)\n",
    "# para poder ir contándolo y no hacer 5 listas separadas: DICCIONARIO\n",
    "vocales = {'a': 0, 'e':0, 'i':0, 'o':0, 'u':0, }\n",
    "\n",
    "for k,v in vocales.items():\n",
    "    veces = frase.count(k) # contamos las apariciones de la key\n",
    "    vocales[k] = veces\n",
    "\n",
    "vocales\n"
   ]
  },
  {
   "cell_type": "code",
   "execution_count": 416,
   "id": "277e96f8",
   "metadata": {},
   "outputs": [
    {
     "data": {
      "text/plain": [
       "'cuántasletrasyvecesaparececadaunaenestafrase'"
      ]
     },
     "execution_count": 416,
     "metadata": {},
     "output_type": "execute_result"
    }
   ],
   "source": [
    "frase = 'Cuántas letras y veces aparece cada una en esta frase'\n",
    "f_min = frase.lower().strip().replace(' ','')\n",
    "f_min"
   ]
  },
  {
   "cell_type": "code",
   "execution_count": 420,
   "id": "c66eec52",
   "metadata": {},
   "outputs": [
    {
     "data": {
      "text/plain": [
       "{'c': 4,\n",
       " 'u': 2,\n",
       " 'á': 1,\n",
       " 'n': 3,\n",
       " 't': 3,\n",
       " 'a': 9,\n",
       " 's': 5,\n",
       " 'l': 1,\n",
       " 'e': 8,\n",
       " 'r': 3,\n",
       " 'y': 1,\n",
       " 'v': 1,\n",
       " 'p': 1,\n",
       " 'd': 1,\n",
       " 'f': 1}"
      ]
     },
     "execution_count": 420,
     "metadata": {},
     "output_type": "execute_result"
    }
   ],
   "source": [
    "frase = 'Cuántas letras y veces aparece cada una en esta frase'\n",
    "cuenta = {}\n",
    "\n",
    "f_min = frase.lower().strip().replace(' ','') #si no, como k te coge los espacios\n",
    "for i in f_min:  # todo min / sin espacios inicio-fin / sin espacios intermedios\n",
    "    valor = f_min.count(i)  # contamos apariciones de esa letra\n",
    "    conjunto = {i:valor}\n",
    "    cuenta.update(conjunto)\n",
    "\n",
    "# for k,v in cuenta.items():     <------ NO FUNCIONA\n",
    "#     f_min = frase.lower().strip().replace(' ','') \n",
    "#     v = f_min.count(k) # contamos las apariciones de cada letra, el resultado será el valor\n",
    "#     letra = {k:v}\n",
    "#     if k not in cuenta.keys():\n",
    "#         cuenta.update(letra)\n",
    "\n",
    "cuenta"
   ]
  },
  {
   "cell_type": "code",
   "execution_count": 426,
   "id": "bca9ccca",
   "metadata": {},
   "outputs": [
    {
     "data": {
      "text/plain": [
       "[('Brocoli', 2.45), ('Chorizo', 45), ('Zanahoria', 7)]"
      ]
     },
     "execution_count": 426,
     "metadata": {},
     "output_type": "execute_result"
    }
   ],
   "source": [
    "diccionario_compra = {'Brocoli': 2.45,  'Chorizo': 45,  'Zanahoria': 7}\n",
    "# queremos tener una lista con esos datos, con bucle for\n",
    "\n",
    "lista_compra=[]\n",
    "\n",
    "for k,v in diccionario_compra.items():\n",
    "    tupla = (k,v)\n",
    "    # lista_compra.extend(tupla) --> ['Brocoli', 2.45, 'Chorizo', 45, 'Zanahoria', 7]\n",
    "    lista_compra.append(tupla)\n",
    "\n",
    "lista_compra\n"
   ]
  },
  {
   "cell_type": "markdown",
   "id": "e62ed58e",
   "metadata": {},
   "source": [
    "#### Comprehension lists"
   ]
  },
  {
   "cell_type": "code",
   "execution_count": null,
   "id": "d442e0d1",
   "metadata": {},
   "outputs": [
    {
     "data": {
      "text/plain": [
       "[(0, 'azul'), (1, 'verde'), (2, 'rosa')]"
      ]
     },
     "execution_count": 270,
     "metadata": {},
     "output_type": "execute_result"
    }
   ],
   "source": [
    "# ENUMERATE!!!\n",
    "colores = ('azul', 'verde', 'rosa')\n",
    "indices_valores = list(enumerate(colores))\n",
    "indices_valores\n"
   ]
  },
  {
   "cell_type": "code",
   "execution_count": 414,
   "id": "5a20f018",
   "metadata": {},
   "outputs": [
    {
     "name": "stdout",
     "output_type": "stream",
     "text": [
      "[4, 2025, 4489, 529]\n",
      "[4, 2025, 4489, 529]\n"
     ]
    }
   ],
   "source": [
    "# 9. Cread una lista nueva donde tengamos los números de la lista `lista` elevados al cuadrado.\n",
    "lista = [2,45,67,23]\n",
    "\n",
    "cuadrado = []\n",
    "for num in lista:                   # iteración\n",
    "    cuadrado.append(num ** 2)       # acción\n",
    "\n",
    "print(cuadrado)\n",
    "\n",
    "# COMPREHENSION LIST:  1 bucle for\n",
    "lista_cuadrado = [num**2     for num in lista]\n",
    "#                 acción      iteración\n",
    "print(lista_cuadrado)"
   ]
  },
  {
   "cell_type": "code",
   "execution_count": 409,
   "id": "6dc20c2e",
   "metadata": {},
   "outputs": [
    {
     "name": "stdout",
     "output_type": "stream",
     "text": [
      "[0, 1, 1, 1]\n",
      "[0, 1, 1, 1]\n"
     ]
    }
   ],
   "source": [
    "# 10. Crea una lista nueva donde tengamos el resto de la división de cada uno de los números entre 2.\n",
    "lista = [2,45,67,23]\n",
    "\n",
    "lista_resto = []\n",
    "for i in lista:                       # iteración\n",
    "    resto = i%2                       # acción\n",
    "    lista_resto.append(resto)\n",
    "\n",
    "print(lista_resto)\n",
    "\n",
    "# COMPREHENSION LIST:  1 bucle for     acción - iteración\n",
    "resto_lista = [i%2 for i in lista]\n",
    "print(resto_lista)"
   ]
  },
  {
   "cell_type": "code",
   "execution_count": 413,
   "id": "6d354337",
   "metadata": {},
   "outputs": [
    {
     "name": "stdout",
     "output_type": "stream",
     "text": [
      "['par', 'impar', 'impar', 'impar', 'par']\n",
      "['par', 'impar', 'impar', 'impar', 'par']\n"
     ]
    }
   ],
   "source": [
    "# 13. Crea una lista donde tengamos los valores \"par\" e \"impar\" \n",
    "# en función de los valores de la lista original.\n",
    "lista = [2,45,67,23,44]\n",
    "\n",
    "lista_p_i = []\n",
    "for i in lista:                   # iteración\n",
    "    if i%2 == 0:                  # CONDICIÓN 1\n",
    "        lista_p_i.append('par')   # acción 1\n",
    "    else:                         # CONDICIÓN 2\n",
    "        lista_p_i.append('impar') # acción 2\n",
    "print(lista_p_i)\n",
    "\n",
    "## COMPREHENSION LIST: if          ación - iteración - condición     (con 1 solo if)\n",
    "#                                  acción 1 - CONDICIÓN1 - CONDICIÓN 2 - acción 2 - iteración\n",
    "p_i_lista = ['par'     if i%2==0     else 'impar'     for i in lista ]\n",
    "print(p_i_lista)\n"
   ]
  },
  {
   "cell_type": "markdown",
   "id": "1fdd30fa",
   "metadata": {},
   "source": [
    "### while: estructura de iteración (loops)"
   ]
  },
  {
   "cell_type": "markdown",
   "id": "98f93815",
   "metadata": {},
   "source": [
    "12. Inicia la variable `ahorros` con un valor de 5.\n",
    "- Crea un bucle while que:\n",
    "    - mientras los ahorros sean igual o menor que 20 imprima por pantalla la cantidad de ahorros que tenemos\n",
    "    - y añádele 5 más\n",
    "- Cuando la variable ahorros supere el valor de 20 el bucle deberá parar."
   ]
  },
  {
   "cell_type": "code",
   "execution_count": null,
   "id": "6a410529",
   "metadata": {},
   "outputs": [
    {
     "name": "stdout",
     "output_type": "stream",
     "text": [
      "Los ahorros que tenemos son 5\n",
      "Los ahorros que tenemos son 10\n",
      "Los ahorros que tenemos son 15\n",
      "Los ahorros que tenemos son 20\n"
     ]
    }
   ],
   "source": [
    "ahorros = 5\n",
    "\n",
    "while ahorros <= 20:\n",
    "    print(f\"Los ahorros que tenemos son {ahorros}\")\n",
    "    ahorros += 5\n"
   ]
  },
  {
   "cell_type": "code",
   "execution_count": null,
   "id": "fd06dd88",
   "metadata": {},
   "outputs": [
    {
     "name": "stdout",
     "output_type": "stream",
     "text": [
      "La suma de los primeros 10 números naturales es: 55\n"
     ]
    }
   ],
   "source": [
    "# 1. Descripción: Utiliza un bucle while para calcular la suma de los primeros 10 números naturales \n",
    "# (1 + 2 + 3 + ... + 10).\n",
    "\n",
    "num= 1\n",
    "suma = 0\n",
    "while num <= 10:\n",
    "    suma = suma + num    # => suma += num \n",
    "    num = num + 1        # => num += 1\n",
    "\n",
    "print(\"La suma de los primeros 10 números naturales es:\", suma)\n"
   ]
  },
  {
   "cell_type": "code",
   "execution_count": null,
   "id": "9c0b2b9a",
   "metadata": {},
   "outputs": [
    {
     "name": "stdout",
     "output_type": "stream",
     "text": [
      "¡Felicitaciones! Adivinaste el número secreto en 1 intentos.\n"
     ]
    }
   ],
   "source": [
    "#2. Crea un juego de adivinanza en el que el jugador tiene que adivinar un número secreto \n",
    "# (tendrá que ser entre el 0 y el 10). \n",
    "# Utiliza un bucle while para permitir múltiples intentos hasta que el jugador adivine correctamente.\n",
    "\n",
    "numero_secreto = 3\n",
    "intentos = 0\n",
    "adivinado = False\n",
    "\n",
    "while not adivinado:\n",
    "    #intento = int(input(\"Adivina el número secreto (tienes 5 intentos): \"))\n",
    "    intentos += 1\n",
    "\n",
    "    if intento not in [0,1,2,3,4,5,6,7,8,9,10]:\n",
    "        print(\"El número no es válido.\")\n",
    "\n",
    "    else:\n",
    "        if intento == numero_secreto:\n",
    "            print(\"¡Felicitaciones! Adivinaste el número secreto en\", intentos, \"intentos.\")\n",
    "            adivinado = True\n",
    "\n",
    "        elif intentos < 5:\n",
    "            print(\"Número incorrecto. Intenta nuevamente.\")\n",
    "\n",
    "        elif intentos == 5:\n",
    "            print(\"Ya no tienes más intentos!\")\n",
    "            break"
   ]
  },
  {
   "cell_type": "markdown",
   "id": "8302dfab",
   "metadata": {},
   "source": [
    "13. Escribe un programa que convierta grados Celsius a grados Fahrenheit o viceversa, según la elección del usuario.  \n",
    "Para eso tendrás que preguntar:\n",
    "- Desde que unidades va a convertir la temperatura, Celsius o Fahrenheit.\n",
    "- Cuál es valor de la temperatura que quiere convertir."
   ]
  },
  {
   "cell_type": "code",
   "execution_count": null,
   "id": "d0cf5b83",
   "metadata": {},
   "outputs": [
    {
     "ename": "IndentationError",
     "evalue": "expected an indented block after 'while' statement on line 5 (3424342953.py, line 12)",
     "output_type": "error",
     "traceback": [
      "\u001b[1;36m  Cell \u001b[1;32mIn[286], line 12\u001b[1;36m\u001b[0m\n\u001b[1;33m    if unidad == \"C\":\u001b[0m\n\u001b[1;37m    ^\u001b[0m\n\u001b[1;31mIndentationError\u001b[0m\u001b[1;31m:\u001b[0m expected an indented block after 'while' statement on line 5\n"
     ]
    }
   ],
   "source": [
    "# SOLUCIÓN PROFES\n",
    "\n",
    "# Bucle para asegurarnos de que el usuario escribe una unidad válida\n",
    "unidad = \"\"\n",
    "while unidad != \"C\" and unidad != \"F\":\n",
    "    # unidad = input(\"¿Desde qué unidad quieres convertir? (C para Celsius, F para Fahrenheit): \").upper()\n",
    "\n",
    "# Pedimos la temperatura a convertir\n",
    "# temperatura = float(input(\"Introduce la temperatura que quieres convertir: \"))\n",
    "\n",
    "# Hacemos la conversión\n",
    "if unidad == \"C\":\n",
    "    resultado = (temperatura * 9/5) + 32 # convertimos a farenhait\n",
    "    print(f\"{temperatura} grados Celsius son {resultado} grados Fahrenheit.\")\n",
    "else:\n",
    "    resultado = (temperatura - 32) * 5/9 # convertimos a celsius\n",
    "    print(f\"{temperatura} grados Fahrenheit son {resultado} grados Celsius.\")"
   ]
  },
  {
   "cell_type": "code",
   "execution_count": null,
   "id": "c969aacd",
   "metadata": {},
   "outputs": [
    {
     "name": "stdout",
     "output_type": "stream",
     "text": [
      "La temperatura no está escrita de forma correcta. Inténtelo de nuevo.\n"
     ]
    }
   ],
   "source": [
    "# solución PAIR\n",
    "\n",
    "# unidad_temperatura = input(f'¿Desde qué unidades va a convertir la temperatura? (Celsius, Fahrenheit)')\n",
    "unidad_temperatura= unidad_temperatura.capitalize()\n",
    "\n",
    "# valor_temperatura = float(input('¿Cuál es el valor de la temperatura que quiere convertir?'))\n",
    "\n",
    "if unidad_temperatura == 'Celsius':\n",
    "    conversión_a_fahrenheit = (valor_temperatura * 9/5) + 32\n",
    "    print(f'La unidad seleccionada es: {unidad_temperatura}')\n",
    "    print(f'La temperatura en Celsius es: {valor_temperatura}')\n",
    "    print(f'La conversión a Fahrenheit es: {conversión_a_fahrenheit}')\n",
    "elif unidad_temperatura == 'Fahrenheit':\n",
    "    conversión_a_celsius = (valor_temperatura - 32) * 5/9\n",
    "    print(f'La unidad seleccionada es: {unidad_temperatura}')\n",
    "    print(f'La temperatura en Fahrenheit es: {valor_temperatura}')\n",
    "    print(f'La conversión a Celsius es: {conversión_a_celsius}')\n",
    "else:\n",
    "    print('La temperatura no está escrita de forma correcta. Inténtelo de nuevo.')"
   ]
  },
  {
   "cell_type": "markdown",
   "id": "8ee5d4da",
   "metadata": {},
   "source": [
    "### try/except: estructura de control en bucles"
   ]
  },
  {
   "cell_type": "markdown",
   "id": "00c1021a",
   "metadata": {},
   "source": [
    "15. Crea un programa que evalúe el nivel de contaminación del aire en función de la concentración de partículas en suspensión (PM2.5) en microgramos por metro cúbico (µg/m³). Para eso deberás:\n",
    "\n",
    "- Solicita al usuario que ingrese la concentración de PM2.5 en el aire en µg/m³. El usuario debe ingresar un valor numérico.\n",
    "\n",
    "- Evalúa el nivel de contaminación del aire según la siguiente escala:\n",
    "\n",
    "    - Si la concentración de PM2.5 es menor o igual a 12 µg/m³, el aire se considera \"Excelente\".\n",
    "\n",
    "    - Si la concentración de PM2.5 está entre 13 µg/m³ y 35 µg/m³, el aire se considera \"Bueno\".\n",
    "\n",
    "    - Si la concentración de PM2.5 está entre 36 µg/m³ y 55 µg/m³, el aire se considera \"Aceptable\".\n",
    "\n",
    "    - Si la concentración de PM2.5 está entre 56 µg/m³ y 150 µg/m³, el aire se considera \"No Saludable para Grupos Sensibles\".\n",
    "\n",
    "    - Si la concentración de PM2.5 es mayor a 150 µg/m³, el aire se considera \"No Saludable\".\n",
    "\n",
    "- Muestra un mensaje indicando el estado de la calidad del aire. Por ejemplo, si la concentración de PM2.5 es 25 µg/m³, el programa debe mostrar: \"La calidad del aire es Buena\".\n",
    "\n",
    "- Además, si la concentración de PM2.5 está en la categoría \"No Saludable para Grupos Sensibles\" o \"No Saludable\", el programa debe advertir al usuario sobre los posibles efectos en la salud.\n",
    "\n",
    "- Si la concentración ingresada por el usuario es negativa o no es un número válido, el programa debe mostrar un mensaje de error."
   ]
  },
  {
   "cell_type": "code",
   "execution_count": null,
   "id": "18997073",
   "metadata": {},
   "outputs": [
    {
     "name": "stdout",
     "output_type": "stream",
     "text": [
      "Nivel de contaminación del aire\n",
      "No Saludable\n"
     ]
    }
   ],
   "source": [
    "print('Nivel de contaminación del aire')\n",
    "# conc_usuario = float(input('Por favor, ingrese la concentración de PM2.5 en el aire en µg/m³'))\n",
    "\n",
    "if conc_usuario <= 12:\n",
    "    print('Excelente')\n",
    "elif 13 <= conc_usuario <= 35:\n",
    "    print('Bueno')\n",
    "elif 36 <= conc_usuario <= 55:\n",
    "    print('Aceptable')\n",
    "elif 56 <= conc_usuario <= 150:\n",
    "    print('No Saludable para Grupos Sensibles')\n",
    "else:\n",
    "    print('No Saludable')"
   ]
  },
  {
   "cell_type": "code",
   "execution_count": null,
   "id": "33c5df5d",
   "metadata": {},
   "outputs": [
    {
     "ename": "IndentationError",
     "evalue": "expected an indented block after 'try' statement on line 2 (3399577573.py, line 4)",
     "output_type": "error",
     "traceback": [
      "\u001b[1;36m  Cell \u001b[1;32mIn[289], line 4\u001b[1;36m\u001b[0m\n\u001b[1;33m    except ValueError:\u001b[0m\n\u001b[1;37m    ^\u001b[0m\n\u001b[1;31mIndentationError\u001b[0m\u001b[1;31m:\u001b[0m expected an indented block after 'try' statement on line 2\n"
     ]
    }
   ],
   "source": [
    "# Solicita el ingreso de la concentración de PM2.5 al usuario\n",
    "try:\n",
    "    # concentracion_pm25 = float(input(\"Ingresa la concentración de PM2.5 en µg/m³: \"))\n",
    "except ValueError:\n",
    "    print(\"Error: Debes ingresar un valor numérico válido.\")\n",
    "    exit()\n",
    "\n",
    "# Evalúa el nivel de contaminación del aire\n",
    "if concentracion_pm25 <= 12:\n",
    "    calidad_aire = \"Excelente\"\n",
    "elif 13 <= concentracion_pm25 <= 35:\n",
    "    calidad_aire = \"Buena\"\n",
    "elif 36 <= concentracion_pm25 <= 55:\n",
    "    calidad_aire = \"Aceptable\"\n",
    "elif 56 <= concentracion_pm25 <= 150:\n",
    "    calidad_aire = \"No Saludable para Grupos Sensibles\"\n",
    "else:\n",
    "    calidad_aire = \"No Saludable\"\n",
    "\n",
    "# Muestra el estado de la calidad del aire\n",
    "print(f\"La calidad del aire es: {calidad_aire}\")\n",
    "\n",
    "# Advierte sobre efectos en la salud si es necesario\n",
    "if calidad_aire in [\"No Saludable para Grupos Sensibles\", \"No Saludable\"]:\n",
    "    print(\"¡Advertencia! La exposición prolongada puede ser perjudicial para la salud.\")\n"
   ]
  }
 ],
 "metadata": {
  "kernelspec": {
   "display_name": "base",
   "language": "python",
   "name": "python3"
  },
  "language_info": {
   "codemirror_mode": {
    "name": "ipython",
    "version": 3
   },
   "file_extension": ".py",
   "mimetype": "text/x-python",
   "name": "python",
   "nbconvert_exporter": "python",
   "pygments_lexer": "ipython3",
   "version": "3.12.3"
  }
 },
 "nbformat": 4,
 "nbformat_minor": 5
}
